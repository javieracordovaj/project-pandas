{
 "cells": [
  {
   "cell_type": "code",
   "execution_count": 233,
   "id": "0b05a66c-752c-4a2a-95fd-f1bf2786efa5",
   "metadata": {},
   "outputs": [],
   "source": [
    "import pandas as pd\n",
    "import numpy as np\n",
    "import re"
   ]
  },
  {
   "cell_type": "code",
   "execution_count": 234,
   "id": "37182ff3-8b16-4bf8-9b84-ae5bc4e72fa6",
   "metadata": {},
   "outputs": [],
   "source": [
    "df = pd.read_csv('attacks.csv', encoding='utf-8', encoding_errors = 'ignore')"
   ]
  },
  {
   "cell_type": "code",
   "execution_count": 235,
   "id": "2e19c128-e676-4212-b7f6-9126889c852e",
   "metadata": {},
   "outputs": [
    {
     "data": {
      "text/html": [
       "<div>\n",
       "<style scoped>\n",
       "    .dataframe tbody tr th:only-of-type {\n",
       "        vertical-align: middle;\n",
       "    }\n",
       "\n",
       "    .dataframe tbody tr th {\n",
       "        vertical-align: top;\n",
       "    }\n",
       "\n",
       "    .dataframe thead th {\n",
       "        text-align: right;\n",
       "    }\n",
       "</style>\n",
       "<table border=\"1\" class=\"dataframe\">\n",
       "  <thead>\n",
       "    <tr style=\"text-align: right;\">\n",
       "      <th></th>\n",
       "      <th>Case Number</th>\n",
       "      <th>Date</th>\n",
       "      <th>Year</th>\n",
       "      <th>Type</th>\n",
       "      <th>Country</th>\n",
       "      <th>Area</th>\n",
       "      <th>Location</th>\n",
       "      <th>Activity</th>\n",
       "      <th>Name</th>\n",
       "      <th>Sex</th>\n",
       "      <th>...</th>\n",
       "      <th>Species</th>\n",
       "      <th>Investigator or Source</th>\n",
       "      <th>pdf</th>\n",
       "      <th>href formula</th>\n",
       "      <th>href</th>\n",
       "      <th>Case Number.1</th>\n",
       "      <th>Case Number.2</th>\n",
       "      <th>original order</th>\n",
       "      <th>Unnamed: 22</th>\n",
       "      <th>Unnamed: 23</th>\n",
       "    </tr>\n",
       "  </thead>\n",
       "  <tbody>\n",
       "    <tr>\n",
       "      <th>0</th>\n",
       "      <td>2018.06.25</td>\n",
       "      <td>25-Jun-2018</td>\n",
       "      <td>2018.0</td>\n",
       "      <td>Boating</td>\n",
       "      <td>USA</td>\n",
       "      <td>California</td>\n",
       "      <td>Oceanside, San Diego County</td>\n",
       "      <td>Paddling</td>\n",
       "      <td>Julie Wolfe</td>\n",
       "      <td>F</td>\n",
       "      <td>...</td>\n",
       "      <td>White shark</td>\n",
       "      <td>R. Collier, GSAF</td>\n",
       "      <td>2018.06.25-Wolfe.pdf</td>\n",
       "      <td>http://sharkattackfile.net/spreadsheets/pdf_di...</td>\n",
       "      <td>http://sharkattackfile.net/spreadsheets/pdf_di...</td>\n",
       "      <td>2018.06.25</td>\n",
       "      <td>2018.06.25</td>\n",
       "      <td>6303.0</td>\n",
       "      <td>NaN</td>\n",
       "      <td>NaN</td>\n",
       "    </tr>\n",
       "    <tr>\n",
       "      <th>1</th>\n",
       "      <td>2018.06.18</td>\n",
       "      <td>18-Jun-2018</td>\n",
       "      <td>2018.0</td>\n",
       "      <td>Unprovoked</td>\n",
       "      <td>USA</td>\n",
       "      <td>Georgia</td>\n",
       "      <td>St. Simon Island, Glynn County</td>\n",
       "      <td>Standing</td>\n",
       "      <td>AdysonMcNeely</td>\n",
       "      <td>F</td>\n",
       "      <td>...</td>\n",
       "      <td>NaN</td>\n",
       "      <td>K.McMurray, TrackingSharks.com</td>\n",
       "      <td>2018.06.18-McNeely.pdf</td>\n",
       "      <td>http://sharkattackfile.net/spreadsheets/pdf_di...</td>\n",
       "      <td>http://sharkattackfile.net/spreadsheets/pdf_di...</td>\n",
       "      <td>2018.06.18</td>\n",
       "      <td>2018.06.18</td>\n",
       "      <td>6302.0</td>\n",
       "      <td>NaN</td>\n",
       "      <td>NaN</td>\n",
       "    </tr>\n",
       "    <tr>\n",
       "      <th>2</th>\n",
       "      <td>2018.06.09</td>\n",
       "      <td>09-Jun-2018</td>\n",
       "      <td>2018.0</td>\n",
       "      <td>Invalid</td>\n",
       "      <td>USA</td>\n",
       "      <td>Hawaii</td>\n",
       "      <td>Habush, Oahu</td>\n",
       "      <td>Surfing</td>\n",
       "      <td>John Denges</td>\n",
       "      <td>M</td>\n",
       "      <td>...</td>\n",
       "      <td>NaN</td>\n",
       "      <td>K.McMurray, TrackingSharks.com</td>\n",
       "      <td>2018.06.09-Denges.pdf</td>\n",
       "      <td>http://sharkattackfile.net/spreadsheets/pdf_di...</td>\n",
       "      <td>http://sharkattackfile.net/spreadsheets/pdf_di...</td>\n",
       "      <td>2018.06.09</td>\n",
       "      <td>2018.06.09</td>\n",
       "      <td>6301.0</td>\n",
       "      <td>NaN</td>\n",
       "      <td>NaN</td>\n",
       "    </tr>\n",
       "    <tr>\n",
       "      <th>3</th>\n",
       "      <td>2018.06.08</td>\n",
       "      <td>08-Jun-2018</td>\n",
       "      <td>2018.0</td>\n",
       "      <td>Unprovoked</td>\n",
       "      <td>AUSTRALIA</td>\n",
       "      <td>New South Wales</td>\n",
       "      <td>Arrawarra Headland</td>\n",
       "      <td>Surfing</td>\n",
       "      <td>male</td>\n",
       "      <td>M</td>\n",
       "      <td>...</td>\n",
       "      <td>2 m shark</td>\n",
       "      <td>B. Myatt, GSAF</td>\n",
       "      <td>2018.06.08-Arrawarra.pdf</td>\n",
       "      <td>http://sharkattackfile.net/spreadsheets/pdf_di...</td>\n",
       "      <td>http://sharkattackfile.net/spreadsheets/pdf_di...</td>\n",
       "      <td>2018.06.08</td>\n",
       "      <td>2018.06.08</td>\n",
       "      <td>6300.0</td>\n",
       "      <td>NaN</td>\n",
       "      <td>NaN</td>\n",
       "    </tr>\n",
       "    <tr>\n",
       "      <th>4</th>\n",
       "      <td>2018.06.04</td>\n",
       "      <td>04-Jun-2018</td>\n",
       "      <td>2018.0</td>\n",
       "      <td>Provoked</td>\n",
       "      <td>MEXICO</td>\n",
       "      <td>Colima</td>\n",
       "      <td>La Ticla</td>\n",
       "      <td>Free diving</td>\n",
       "      <td>Gustavo Ramos</td>\n",
       "      <td>M</td>\n",
       "      <td>...</td>\n",
       "      <td>Tiger shark, 3m</td>\n",
       "      <td>A .Kipper</td>\n",
       "      <td>2018.06.04-Ramos.pdf</td>\n",
       "      <td>http://sharkattackfile.net/spreadsheets/pdf_di...</td>\n",
       "      <td>http://sharkattackfile.net/spreadsheets/pdf_di...</td>\n",
       "      <td>2018.06.04</td>\n",
       "      <td>2018.06.04</td>\n",
       "      <td>6299.0</td>\n",
       "      <td>NaN</td>\n",
       "      <td>NaN</td>\n",
       "    </tr>\n",
       "    <tr>\n",
       "      <th>...</th>\n",
       "      <td>...</td>\n",
       "      <td>...</td>\n",
       "      <td>...</td>\n",
       "      <td>...</td>\n",
       "      <td>...</td>\n",
       "      <td>...</td>\n",
       "      <td>...</td>\n",
       "      <td>...</td>\n",
       "      <td>...</td>\n",
       "      <td>...</td>\n",
       "      <td>...</td>\n",
       "      <td>...</td>\n",
       "      <td>...</td>\n",
       "      <td>...</td>\n",
       "      <td>...</td>\n",
       "      <td>...</td>\n",
       "      <td>...</td>\n",
       "      <td>...</td>\n",
       "      <td>...</td>\n",
       "      <td>...</td>\n",
       "      <td>...</td>\n",
       "    </tr>\n",
       "    <tr>\n",
       "      <th>25718</th>\n",
       "      <td>NaN</td>\n",
       "      <td>NaN</td>\n",
       "      <td>NaN</td>\n",
       "      <td>NaN</td>\n",
       "      <td>NaN</td>\n",
       "      <td>NaN</td>\n",
       "      <td>NaN</td>\n",
       "      <td>NaN</td>\n",
       "      <td>NaN</td>\n",
       "      <td>NaN</td>\n",
       "      <td>...</td>\n",
       "      <td>NaN</td>\n",
       "      <td>NaN</td>\n",
       "      <td>NaN</td>\n",
       "      <td>NaN</td>\n",
       "      <td>NaN</td>\n",
       "      <td>NaN</td>\n",
       "      <td>NaN</td>\n",
       "      <td>NaN</td>\n",
       "      <td>NaN</td>\n",
       "      <td>NaN</td>\n",
       "    </tr>\n",
       "    <tr>\n",
       "      <th>25719</th>\n",
       "      <td>NaN</td>\n",
       "      <td>NaN</td>\n",
       "      <td>NaN</td>\n",
       "      <td>NaN</td>\n",
       "      <td>NaN</td>\n",
       "      <td>NaN</td>\n",
       "      <td>NaN</td>\n",
       "      <td>NaN</td>\n",
       "      <td>NaN</td>\n",
       "      <td>NaN</td>\n",
       "      <td>...</td>\n",
       "      <td>NaN</td>\n",
       "      <td>NaN</td>\n",
       "      <td>NaN</td>\n",
       "      <td>NaN</td>\n",
       "      <td>NaN</td>\n",
       "      <td>NaN</td>\n",
       "      <td>NaN</td>\n",
       "      <td>NaN</td>\n",
       "      <td>NaN</td>\n",
       "      <td>NaN</td>\n",
       "    </tr>\n",
       "    <tr>\n",
       "      <th>25720</th>\n",
       "      <td>NaN</td>\n",
       "      <td>NaN</td>\n",
       "      <td>NaN</td>\n",
       "      <td>NaN</td>\n",
       "      <td>NaN</td>\n",
       "      <td>NaN</td>\n",
       "      <td>NaN</td>\n",
       "      <td>NaN</td>\n",
       "      <td>NaN</td>\n",
       "      <td>NaN</td>\n",
       "      <td>...</td>\n",
       "      <td>NaN</td>\n",
       "      <td>NaN</td>\n",
       "      <td>NaN</td>\n",
       "      <td>NaN</td>\n",
       "      <td>NaN</td>\n",
       "      <td>NaN</td>\n",
       "      <td>NaN</td>\n",
       "      <td>NaN</td>\n",
       "      <td>NaN</td>\n",
       "      <td>NaN</td>\n",
       "    </tr>\n",
       "    <tr>\n",
       "      <th>25721</th>\n",
       "      <td>NaN</td>\n",
       "      <td>NaN</td>\n",
       "      <td>NaN</td>\n",
       "      <td>NaN</td>\n",
       "      <td>NaN</td>\n",
       "      <td>NaN</td>\n",
       "      <td>NaN</td>\n",
       "      <td>NaN</td>\n",
       "      <td>NaN</td>\n",
       "      <td>NaN</td>\n",
       "      <td>...</td>\n",
       "      <td>NaN</td>\n",
       "      <td>NaN</td>\n",
       "      <td>NaN</td>\n",
       "      <td>NaN</td>\n",
       "      <td>NaN</td>\n",
       "      <td>NaN</td>\n",
       "      <td>NaN</td>\n",
       "      <td>NaN</td>\n",
       "      <td>NaN</td>\n",
       "      <td>NaN</td>\n",
       "    </tr>\n",
       "    <tr>\n",
       "      <th>25722</th>\n",
       "      <td>xx</td>\n",
       "      <td>NaN</td>\n",
       "      <td>NaN</td>\n",
       "      <td>NaN</td>\n",
       "      <td>NaN</td>\n",
       "      <td>NaN</td>\n",
       "      <td>NaN</td>\n",
       "      <td>NaN</td>\n",
       "      <td>NaN</td>\n",
       "      <td>NaN</td>\n",
       "      <td>...</td>\n",
       "      <td>NaN</td>\n",
       "      <td>NaN</td>\n",
       "      <td>NaN</td>\n",
       "      <td>NaN</td>\n",
       "      <td>NaN</td>\n",
       "      <td>NaN</td>\n",
       "      <td>NaN</td>\n",
       "      <td>NaN</td>\n",
       "      <td>NaN</td>\n",
       "      <td>NaN</td>\n",
       "    </tr>\n",
       "  </tbody>\n",
       "</table>\n",
       "<p>25723 rows × 24 columns</p>\n",
       "</div>"
      ],
      "text/plain": [
       "      Case Number         Date    Year        Type    Country  \\\n",
       "0      2018.06.25  25-Jun-2018  2018.0     Boating        USA   \n",
       "1      2018.06.18  18-Jun-2018  2018.0  Unprovoked        USA   \n",
       "2      2018.06.09  09-Jun-2018  2018.0     Invalid        USA   \n",
       "3      2018.06.08  08-Jun-2018  2018.0  Unprovoked  AUSTRALIA   \n",
       "4      2018.06.04  04-Jun-2018  2018.0    Provoked     MEXICO   \n",
       "...           ...          ...     ...         ...        ...   \n",
       "25718         NaN          NaN     NaN         NaN        NaN   \n",
       "25719         NaN          NaN     NaN         NaN        NaN   \n",
       "25720         NaN          NaN     NaN         NaN        NaN   \n",
       "25721         NaN          NaN     NaN         NaN        NaN   \n",
       "25722          xx          NaN     NaN         NaN        NaN   \n",
       "\n",
       "                  Area                        Location     Activity  \\\n",
       "0           California     Oceanside, San Diego County     Paddling   \n",
       "1              Georgia  St. Simon Island, Glynn County     Standing   \n",
       "2               Hawaii                    Habush, Oahu      Surfing   \n",
       "3      New South Wales              Arrawarra Headland      Surfing   \n",
       "4               Colima                        La Ticla  Free diving   \n",
       "...                ...                             ...          ...   \n",
       "25718              NaN                             NaN          NaN   \n",
       "25719              NaN                             NaN          NaN   \n",
       "25720              NaN                             NaN          NaN   \n",
       "25721              NaN                             NaN          NaN   \n",
       "25722              NaN                             NaN          NaN   \n",
       "\n",
       "                 Name Sex   ...         Species   \\\n",
       "0         Julie Wolfe    F  ...      White shark   \n",
       "1      AdysonMcNeely     F  ...              NaN   \n",
       "2         John Denges    M  ...              NaN   \n",
       "3                male    M  ...        2 m shark   \n",
       "4      Gustavo Ramos     M  ...  Tiger shark, 3m   \n",
       "...               ...  ...  ...              ...   \n",
       "25718             NaN  NaN  ...              NaN   \n",
       "25719             NaN  NaN  ...              NaN   \n",
       "25720             NaN  NaN  ...              NaN   \n",
       "25721             NaN  NaN  ...              NaN   \n",
       "25722             NaN  NaN  ...              NaN   \n",
       "\n",
       "               Investigator or Source                       pdf  \\\n",
       "0                    R. Collier, GSAF      2018.06.25-Wolfe.pdf   \n",
       "1      K.McMurray, TrackingSharks.com    2018.06.18-McNeely.pdf   \n",
       "2      K.McMurray, TrackingSharks.com     2018.06.09-Denges.pdf   \n",
       "3                      B. Myatt, GSAF  2018.06.08-Arrawarra.pdf   \n",
       "4                           A .Kipper      2018.06.04-Ramos.pdf   \n",
       "...                               ...                       ...   \n",
       "25718                             NaN                       NaN   \n",
       "25719                             NaN                       NaN   \n",
       "25720                             NaN                       NaN   \n",
       "25721                             NaN                       NaN   \n",
       "25722                             NaN                       NaN   \n",
       "\n",
       "                                            href formula  \\\n",
       "0      http://sharkattackfile.net/spreadsheets/pdf_di...   \n",
       "1      http://sharkattackfile.net/spreadsheets/pdf_di...   \n",
       "2      http://sharkattackfile.net/spreadsheets/pdf_di...   \n",
       "3      http://sharkattackfile.net/spreadsheets/pdf_di...   \n",
       "4      http://sharkattackfile.net/spreadsheets/pdf_di...   \n",
       "...                                                  ...   \n",
       "25718                                                NaN   \n",
       "25719                                                NaN   \n",
       "25720                                                NaN   \n",
       "25721                                                NaN   \n",
       "25722                                                NaN   \n",
       "\n",
       "                                                    href Case Number.1  \\\n",
       "0      http://sharkattackfile.net/spreadsheets/pdf_di...    2018.06.25   \n",
       "1      http://sharkattackfile.net/spreadsheets/pdf_di...    2018.06.18   \n",
       "2      http://sharkattackfile.net/spreadsheets/pdf_di...    2018.06.09   \n",
       "3      http://sharkattackfile.net/spreadsheets/pdf_di...    2018.06.08   \n",
       "4      http://sharkattackfile.net/spreadsheets/pdf_di...    2018.06.04   \n",
       "...                                                  ...           ...   \n",
       "25718                                                NaN           NaN   \n",
       "25719                                                NaN           NaN   \n",
       "25720                                                NaN           NaN   \n",
       "25721                                                NaN           NaN   \n",
       "25722                                                NaN           NaN   \n",
       "\n",
       "      Case Number.2 original order Unnamed: 22 Unnamed: 23  \n",
       "0        2018.06.25         6303.0         NaN         NaN  \n",
       "1        2018.06.18         6302.0         NaN         NaN  \n",
       "2        2018.06.09         6301.0         NaN         NaN  \n",
       "3        2018.06.08         6300.0         NaN         NaN  \n",
       "4        2018.06.04         6299.0         NaN         NaN  \n",
       "...             ...            ...         ...         ...  \n",
       "25718           NaN            NaN         NaN         NaN  \n",
       "25719           NaN            NaN         NaN         NaN  \n",
       "25720           NaN            NaN         NaN         NaN  \n",
       "25721           NaN            NaN         NaN         NaN  \n",
       "25722           NaN            NaN         NaN         NaN  \n",
       "\n",
       "[25723 rows x 24 columns]"
      ]
     },
     "execution_count": 235,
     "metadata": {},
     "output_type": "execute_result"
    }
   ],
   "source": [
    "df"
   ]
  },
  {
   "cell_type": "code",
   "execution_count": 236,
   "id": "6df372fa-ed66-4ba4-9f20-8f4be2238f41",
   "metadata": {},
   "outputs": [
    {
     "data": {
      "text/plain": [
       "Index(['Case Number', 'Date', 'Year', 'Type', 'Country', 'Area', 'Location',\n",
       "       'Activity', 'Name', 'Sex ', 'Age', 'Injury', 'Fatal (Y/N)', 'Time',\n",
       "       'Species ', 'Investigator or Source', 'pdf', 'href formula', 'href',\n",
       "       'Case Number.1', 'Case Number.2', 'original order', 'Unnamed: 22',\n",
       "       'Unnamed: 23'],\n",
       "      dtype='object')"
      ]
     },
     "execution_count": 236,
     "metadata": {},
     "output_type": "execute_result"
    }
   ],
   "source": [
    "df.columns"
   ]
  },
  {
   "cell_type": "code",
   "execution_count": 237,
   "id": "1b8b044e-f0e0-4db6-b6be-703042ee1bdc",
   "metadata": {},
   "outputs": [
    {
     "name": "stdout",
     "output_type": "stream",
     "text": [
      "<class 'pandas.core.frame.DataFrame'>\n",
      "RangeIndex: 25723 entries, 0 to 25722\n",
      "Data columns (total 24 columns):\n",
      " #   Column                  Non-Null Count  Dtype  \n",
      "---  ------                  --------------  -----  \n",
      " 0   Case Number             8702 non-null   object \n",
      " 1   Date                    6302 non-null   object \n",
      " 2   Year                    6300 non-null   float64\n",
      " 3   Type                    6298 non-null   object \n",
      " 4   Country                 6252 non-null   object \n",
      " 5   Area                    5847 non-null   object \n",
      " 6   Location                5762 non-null   object \n",
      " 7   Activity                5758 non-null   object \n",
      " 8   Name                    6092 non-null   object \n",
      " 9   Sex                     5737 non-null   object \n",
      " 10  Age                     3471 non-null   object \n",
      " 11  Injury                  6274 non-null   object \n",
      " 12  Fatal (Y/N)             5763 non-null   object \n",
      " 13  Time                    2948 non-null   object \n",
      " 14  Species                 3464 non-null   object \n",
      " 15  Investigator or Source  6285 non-null   object \n",
      " 16  pdf                     6302 non-null   object \n",
      " 17  href formula            6301 non-null   object \n",
      " 18  href                    6302 non-null   object \n",
      " 19  Case Number.1           6302 non-null   object \n",
      " 20  Case Number.2           6302 non-null   object \n",
      " 21  original order          6309 non-null   float64\n",
      " 22  Unnamed: 22             1 non-null      object \n",
      " 23  Unnamed: 23             2 non-null      object \n",
      "dtypes: float64(2), object(22)\n",
      "memory usage: 4.7+ MB\n"
     ]
    }
   ],
   "source": [
    "df.info()"
   ]
  },
  {
   "cell_type": "code",
   "execution_count": 238,
   "id": "cc7fb2e7-1790-4413-aeb7-7f69b0d19b65",
   "metadata": {},
   "outputs": [
    {
     "data": {
      "text/plain": [
       "Case Number               17021\n",
       "Date                      19421\n",
       "Year                      19423\n",
       "Type                      19425\n",
       "Country                   19471\n",
       "Area                      19876\n",
       "Location                  19961\n",
       "Activity                  19965\n",
       "Name                      19631\n",
       "Sex                       19986\n",
       "Age                       22252\n",
       "Injury                    19449\n",
       "Fatal (Y/N)               19960\n",
       "Time                      22775\n",
       "Species                   22259\n",
       "Investigator or Source    19438\n",
       "pdf                       19421\n",
       "href formula              19422\n",
       "href                      19421\n",
       "Case Number.1             19421\n",
       "Case Number.2             19421\n",
       "original order            19414\n",
       "Unnamed: 22               25722\n",
       "Unnamed: 23               25721\n",
       "dtype: int64"
      ]
     },
     "execution_count": 238,
     "metadata": {},
     "output_type": "execute_result"
    }
   ],
   "source": [
    "col_nulls = df.isnull().sum()\n",
    "col_nulls\n",
    "\n",
    "# Recordatorio: si no le pongo axis = 1, el sum() me cuenta los valores nulos por columnas."
   ]
  },
  {
   "cell_type": "code",
   "execution_count": 239,
   "id": "24322763-6cf5-48fc-8f9e-3c5a44834655",
   "metadata": {},
   "outputs": [
    {
     "data": {
      "text/plain": [
       "Case Number               0.661704\n",
       "Date                      0.755005\n",
       "Year                      0.755083\n",
       "Type                      0.755161\n",
       "Country                   0.756949\n",
       "Area                      0.772694\n",
       "Location                  0.775998\n",
       "Activity                  0.776154\n",
       "Name                      0.763169\n",
       "Sex                       0.776970\n",
       "Age                       0.865062\n",
       "Injury                    0.756094\n",
       "Fatal (Y/N)               0.775959\n",
       "Time                      0.885394\n",
       "Species                   0.865335\n",
       "Investigator or Source    0.755666\n",
       "pdf                       0.755005\n",
       "href formula              0.755044\n",
       "href                      0.755005\n",
       "Case Number.1             0.755005\n",
       "Case Number.2             0.755005\n",
       "original order            0.754733\n",
       "Unnamed: 22               0.999961\n",
       "Unnamed: 23               0.999922\n",
       "dtype: float64"
      ]
     },
     "execution_count": 239,
     "metadata": {},
     "output_type": "execute_result"
    }
   ],
   "source": [
    "per_nulls = col_nulls[col_nulls > 0] / df.shape[0]\n",
    "per_nulls"
   ]
  },
  {
   "cell_type": "code",
   "execution_count": 240,
   "id": "1bd892b1-d038-4ef1-a535-245b5970da48",
   "metadata": {},
   "outputs": [
    {
     "data": {
      "text/plain": [
       "Index(['Unnamed: 22', 'Unnamed: 23'], dtype='object')"
      ]
     },
     "execution_count": 240,
     "metadata": {},
     "output_type": "execute_result"
    }
   ],
   "source": [
    "delete_columns = per_nulls[per_nulls > .9].index\n",
    "delete_columns"
   ]
  },
  {
   "cell_type": "code",
   "execution_count": 241,
   "id": "d04baf3f-d013-4392-a501-7c61b324c0e6",
   "metadata": {},
   "outputs": [],
   "source": [
    "df.drop(delete_columns, axis = 1, inplace = True)"
   ]
  },
  {
   "cell_type": "code",
   "execution_count": 242,
   "id": "19ab98fa-d64c-4538-b1ea-1418b2b8c390",
   "metadata": {},
   "outputs": [
    {
     "data": {
      "text/plain": [
       "(25723, 22)"
      ]
     },
     "execution_count": 242,
     "metadata": {},
     "output_type": "execute_result"
    }
   ],
   "source": [
    "df.shape\n",
    "\n",
    "# Antes eran 24, es decir, ya las eliminó."
   ]
  },
  {
   "cell_type": "code",
   "execution_count": 243,
   "id": "2e84054c-842f-4092-8cf8-ad3eb83dd93a",
   "metadata": {},
   "outputs": [],
   "source": [
    "df.dropna(axis=0, how='all', inplace=True)"
   ]
  },
  {
   "cell_type": "code",
   "execution_count": 244,
   "id": "4a4bb678-5bc0-4968-a1f7-b17be3cc1290",
   "metadata": {},
   "outputs": [
    {
     "data": {
      "text/plain": [
       "0         0\n",
       "1         1\n",
       "2         1\n",
       "3         2\n",
       "4         2\n",
       "         ..\n",
       "8698     21\n",
       "8699     21\n",
       "8700     21\n",
       "8701     21\n",
       "25722    21\n",
       "Length: 8703, dtype: int64"
      ]
     },
     "execution_count": 244,
     "metadata": {},
     "output_type": "execute_result"
    }
   ],
   "source": [
    "df.isnull().sum(axis = 1)"
   ]
  },
  {
   "cell_type": "code",
   "execution_count": 245,
   "id": "90133a61-445a-418e-8380-e438090dea96",
   "metadata": {},
   "outputs": [],
   "source": [
    "df.columns = df.columns.str.strip(' ').str.replace(' ', '_', regex = False).str.replace('.', '', regex = False).str.replace('/', '_', regex = False).str.replace('(', '', regex = False).str.replace(')', '', regex = False).str.lower()\n",
    "\n",
    "# No pude hacerlo usando sólo 1 replace, asi que en virtud al tiempo, lo dejé así no más."
   ]
  },
  {
   "cell_type": "code",
   "execution_count": 246,
   "id": "f007a948-0210-436f-a1b3-5f34bbde0b3b",
   "metadata": {},
   "outputs": [
    {
     "data": {
      "text/plain": [
       "Index(['case_number', 'date', 'year', 'type', 'country', 'area', 'location',\n",
       "       'activity', 'name', 'sex', 'age', 'injury', 'fatal_y_n', 'time',\n",
       "       'species', 'investigator_or_source', 'pdf', 'href_formula', 'href',\n",
       "       'case_number1', 'case_number2', 'original_order'],\n",
       "      dtype='object')"
      ]
     },
     "execution_count": 246,
     "metadata": {},
     "output_type": "execute_result"
    }
   ],
   "source": [
    "df.columns"
   ]
  },
  {
   "cell_type": "markdown",
   "id": "0f1e2631-5701-4ec7-8d89-f82653404e72",
   "metadata": {},
   "source": [
    "## Case Number"
   ]
  },
  {
   "cell_type": "code",
   "execution_count": 247,
   "id": "4aec1bb8-85aa-480f-818e-63d79d977413",
   "metadata": {},
   "outputs": [
    {
     "data": {
      "text/plain": [
       "0               2400\n",
       "1920.00.00.b       2\n",
       "1966.12.26         2\n",
       "2014.08.02         2\n",
       "1990.05.10         2\n",
       "                ... \n",
       "1999.09.05         1\n",
       "1999.09.10         1\n",
       "1999.09.16         1\n",
       "1999.09.18         1\n",
       "xx                 1\n",
       "Name: case_number, Length: 6287, dtype: int64"
      ]
     },
     "execution_count": 247,
     "metadata": {},
     "output_type": "execute_result"
    }
   ],
   "source": [
    "df.case_number.value_counts()"
   ]
  },
  {
   "cell_type": "code",
   "execution_count": 248,
   "id": "baa56683-307e-4c45-a42e-bdc09a4c5404",
   "metadata": {},
   "outputs": [
    {
     "data": {
      "text/plain": [
       "0        False\n",
       "1        False\n",
       "2        False\n",
       "3        False\n",
       "4        False\n",
       "         ...  \n",
       "8698      True\n",
       "8699      True\n",
       "8700      True\n",
       "8701      True\n",
       "25722    False\n",
       "Name: case_number, Length: 8703, dtype: bool"
      ]
     },
     "execution_count": 248,
     "metadata": {},
     "output_type": "execute_result"
    }
   ],
   "source": [
    "df.case_number == '0'"
   ]
  },
  {
   "cell_type": "code",
   "execution_count": 249,
   "id": "59f63438-2ab5-44be-b532-b226fb14ea2b",
   "metadata": {},
   "outputs": [
    {
     "data": {
      "text/html": [
       "<div>\n",
       "<style scoped>\n",
       "    .dataframe tbody tr th:only-of-type {\n",
       "        vertical-align: middle;\n",
       "    }\n",
       "\n",
       "    .dataframe tbody tr th {\n",
       "        vertical-align: top;\n",
       "    }\n",
       "\n",
       "    .dataframe thead th {\n",
       "        text-align: right;\n",
       "    }\n",
       "</style>\n",
       "<table border=\"1\" class=\"dataframe\">\n",
       "  <thead>\n",
       "    <tr style=\"text-align: right;\">\n",
       "      <th></th>\n",
       "      <th>case_number</th>\n",
       "      <th>date</th>\n",
       "      <th>year</th>\n",
       "      <th>type</th>\n",
       "      <th>country</th>\n",
       "      <th>area</th>\n",
       "      <th>location</th>\n",
       "      <th>activity</th>\n",
       "      <th>name</th>\n",
       "      <th>sex</th>\n",
       "      <th>...</th>\n",
       "      <th>fatal_y_n</th>\n",
       "      <th>time</th>\n",
       "      <th>species</th>\n",
       "      <th>investigator_or_source</th>\n",
       "      <th>pdf</th>\n",
       "      <th>href_formula</th>\n",
       "      <th>href</th>\n",
       "      <th>case_number1</th>\n",
       "      <th>case_number2</th>\n",
       "      <th>original_order</th>\n",
       "    </tr>\n",
       "  </thead>\n",
       "  <tbody>\n",
       "    <tr>\n",
       "      <th>0</th>\n",
       "      <td>2018.06.25</td>\n",
       "      <td>25-Jun-2018</td>\n",
       "      <td>2018.0</td>\n",
       "      <td>Boating</td>\n",
       "      <td>USA</td>\n",
       "      <td>California</td>\n",
       "      <td>Oceanside, San Diego County</td>\n",
       "      <td>Paddling</td>\n",
       "      <td>Julie Wolfe</td>\n",
       "      <td>F</td>\n",
       "      <td>...</td>\n",
       "      <td>N</td>\n",
       "      <td>18h00</td>\n",
       "      <td>White shark</td>\n",
       "      <td>R. Collier, GSAF</td>\n",
       "      <td>2018.06.25-Wolfe.pdf</td>\n",
       "      <td>http://sharkattackfile.net/spreadsheets/pdf_di...</td>\n",
       "      <td>http://sharkattackfile.net/spreadsheets/pdf_di...</td>\n",
       "      <td>2018.06.25</td>\n",
       "      <td>2018.06.25</td>\n",
       "      <td>6303.0</td>\n",
       "    </tr>\n",
       "    <tr>\n",
       "      <th>1</th>\n",
       "      <td>2018.06.18</td>\n",
       "      <td>18-Jun-2018</td>\n",
       "      <td>2018.0</td>\n",
       "      <td>Unprovoked</td>\n",
       "      <td>USA</td>\n",
       "      <td>Georgia</td>\n",
       "      <td>St. Simon Island, Glynn County</td>\n",
       "      <td>Standing</td>\n",
       "      <td>AdysonMcNeely</td>\n",
       "      <td>F</td>\n",
       "      <td>...</td>\n",
       "      <td>N</td>\n",
       "      <td>14h00  -15h00</td>\n",
       "      <td>NaN</td>\n",
       "      <td>K.McMurray, TrackingSharks.com</td>\n",
       "      <td>2018.06.18-McNeely.pdf</td>\n",
       "      <td>http://sharkattackfile.net/spreadsheets/pdf_di...</td>\n",
       "      <td>http://sharkattackfile.net/spreadsheets/pdf_di...</td>\n",
       "      <td>2018.06.18</td>\n",
       "      <td>2018.06.18</td>\n",
       "      <td>6302.0</td>\n",
       "    </tr>\n",
       "    <tr>\n",
       "      <th>2</th>\n",
       "      <td>2018.06.09</td>\n",
       "      <td>09-Jun-2018</td>\n",
       "      <td>2018.0</td>\n",
       "      <td>Invalid</td>\n",
       "      <td>USA</td>\n",
       "      <td>Hawaii</td>\n",
       "      <td>Habush, Oahu</td>\n",
       "      <td>Surfing</td>\n",
       "      <td>John Denges</td>\n",
       "      <td>M</td>\n",
       "      <td>...</td>\n",
       "      <td>N</td>\n",
       "      <td>07h45</td>\n",
       "      <td>NaN</td>\n",
       "      <td>K.McMurray, TrackingSharks.com</td>\n",
       "      <td>2018.06.09-Denges.pdf</td>\n",
       "      <td>http://sharkattackfile.net/spreadsheets/pdf_di...</td>\n",
       "      <td>http://sharkattackfile.net/spreadsheets/pdf_di...</td>\n",
       "      <td>2018.06.09</td>\n",
       "      <td>2018.06.09</td>\n",
       "      <td>6301.0</td>\n",
       "    </tr>\n",
       "    <tr>\n",
       "      <th>3</th>\n",
       "      <td>2018.06.08</td>\n",
       "      <td>08-Jun-2018</td>\n",
       "      <td>2018.0</td>\n",
       "      <td>Unprovoked</td>\n",
       "      <td>AUSTRALIA</td>\n",
       "      <td>New South Wales</td>\n",
       "      <td>Arrawarra Headland</td>\n",
       "      <td>Surfing</td>\n",
       "      <td>male</td>\n",
       "      <td>M</td>\n",
       "      <td>...</td>\n",
       "      <td>N</td>\n",
       "      <td>NaN</td>\n",
       "      <td>2 m shark</td>\n",
       "      <td>B. Myatt, GSAF</td>\n",
       "      <td>2018.06.08-Arrawarra.pdf</td>\n",
       "      <td>http://sharkattackfile.net/spreadsheets/pdf_di...</td>\n",
       "      <td>http://sharkattackfile.net/spreadsheets/pdf_di...</td>\n",
       "      <td>2018.06.08</td>\n",
       "      <td>2018.06.08</td>\n",
       "      <td>6300.0</td>\n",
       "    </tr>\n",
       "    <tr>\n",
       "      <th>4</th>\n",
       "      <td>2018.06.04</td>\n",
       "      <td>04-Jun-2018</td>\n",
       "      <td>2018.0</td>\n",
       "      <td>Provoked</td>\n",
       "      <td>MEXICO</td>\n",
       "      <td>Colima</td>\n",
       "      <td>La Ticla</td>\n",
       "      <td>Free diving</td>\n",
       "      <td>Gustavo Ramos</td>\n",
       "      <td>M</td>\n",
       "      <td>...</td>\n",
       "      <td>N</td>\n",
       "      <td>NaN</td>\n",
       "      <td>Tiger shark, 3m</td>\n",
       "      <td>A .Kipper</td>\n",
       "      <td>2018.06.04-Ramos.pdf</td>\n",
       "      <td>http://sharkattackfile.net/spreadsheets/pdf_di...</td>\n",
       "      <td>http://sharkattackfile.net/spreadsheets/pdf_di...</td>\n",
       "      <td>2018.06.04</td>\n",
       "      <td>2018.06.04</td>\n",
       "      <td>6299.0</td>\n",
       "    </tr>\n",
       "    <tr>\n",
       "      <th>...</th>\n",
       "      <td>...</td>\n",
       "      <td>...</td>\n",
       "      <td>...</td>\n",
       "      <td>...</td>\n",
       "      <td>...</td>\n",
       "      <td>...</td>\n",
       "      <td>...</td>\n",
       "      <td>...</td>\n",
       "      <td>...</td>\n",
       "      <td>...</td>\n",
       "      <td>...</td>\n",
       "      <td>...</td>\n",
       "      <td>...</td>\n",
       "      <td>...</td>\n",
       "      <td>...</td>\n",
       "      <td>...</td>\n",
       "      <td>...</td>\n",
       "      <td>...</td>\n",
       "      <td>...</td>\n",
       "      <td>...</td>\n",
       "      <td>...</td>\n",
       "    </tr>\n",
       "    <tr>\n",
       "      <th>6297</th>\n",
       "      <td>ND.0005</td>\n",
       "      <td>Before 1903</td>\n",
       "      <td>0.0</td>\n",
       "      <td>Unprovoked</td>\n",
       "      <td>AUSTRALIA</td>\n",
       "      <td>Western Australia</td>\n",
       "      <td>Roebuck Bay</td>\n",
       "      <td>Diving</td>\n",
       "      <td>male</td>\n",
       "      <td>M</td>\n",
       "      <td>...</td>\n",
       "      <td>Y</td>\n",
       "      <td>NaN</td>\n",
       "      <td>NaN</td>\n",
       "      <td>H. Taunton; N. Bartlett,  p. 234</td>\n",
       "      <td>ND-0005-RoebuckBay.pdf</td>\n",
       "      <td>http://sharkattackfile.net/spreadsheets/pdf_di...</td>\n",
       "      <td>http://sharkattackfile.net/spreadsheets/pdf_di...</td>\n",
       "      <td>ND.0005</td>\n",
       "      <td>ND.0005</td>\n",
       "      <td>6.0</td>\n",
       "    </tr>\n",
       "    <tr>\n",
       "      <th>6298</th>\n",
       "      <td>ND.0004</td>\n",
       "      <td>Before 1903</td>\n",
       "      <td>0.0</td>\n",
       "      <td>Unprovoked</td>\n",
       "      <td>AUSTRALIA</td>\n",
       "      <td>Western Australia</td>\n",
       "      <td>NaN</td>\n",
       "      <td>Pearl diving</td>\n",
       "      <td>Ahmun</td>\n",
       "      <td>M</td>\n",
       "      <td>...</td>\n",
       "      <td>Y</td>\n",
       "      <td>NaN</td>\n",
       "      <td>NaN</td>\n",
       "      <td>H. Taunton; N. Bartlett,  pp. 233-234</td>\n",
       "      <td>ND-0004-Ahmun.pdf</td>\n",
       "      <td>http://sharkattackfile.net/spreadsheets/pdf_di...</td>\n",
       "      <td>http://sharkattackfile.net/spreadsheets/pdf_di...</td>\n",
       "      <td>ND.0004</td>\n",
       "      <td>ND.0004</td>\n",
       "      <td>5.0</td>\n",
       "    </tr>\n",
       "    <tr>\n",
       "      <th>6299</th>\n",
       "      <td>ND.0003</td>\n",
       "      <td>1900-1905</td>\n",
       "      <td>0.0</td>\n",
       "      <td>Unprovoked</td>\n",
       "      <td>USA</td>\n",
       "      <td>North Carolina</td>\n",
       "      <td>Ocracoke Inlet</td>\n",
       "      <td>Swimming</td>\n",
       "      <td>Coast Guard personnel</td>\n",
       "      <td>M</td>\n",
       "      <td>...</td>\n",
       "      <td>Y</td>\n",
       "      <td>NaN</td>\n",
       "      <td>NaN</td>\n",
       "      <td>F. Schwartz, p.23; C. Creswell, GSAF</td>\n",
       "      <td>ND-0003-Ocracoke_1900-1905.pdf</td>\n",
       "      <td>http://sharkattackfile.net/spreadsheets/pdf_di...</td>\n",
       "      <td>http://sharkattackfile.net/spreadsheets/pdf_di...</td>\n",
       "      <td>ND.0003</td>\n",
       "      <td>ND.0003</td>\n",
       "      <td>4.0</td>\n",
       "    </tr>\n",
       "    <tr>\n",
       "      <th>6300</th>\n",
       "      <td>ND.0002</td>\n",
       "      <td>1883-1889</td>\n",
       "      <td>0.0</td>\n",
       "      <td>Unprovoked</td>\n",
       "      <td>PANAMA</td>\n",
       "      <td>NaN</td>\n",
       "      <td>Panama Bay 8N, 79W</td>\n",
       "      <td>NaN</td>\n",
       "      <td>Jules Patterson</td>\n",
       "      <td>M</td>\n",
       "      <td>...</td>\n",
       "      <td>Y</td>\n",
       "      <td>NaN</td>\n",
       "      <td>NaN</td>\n",
       "      <td>The Sun, 10/20/1938</td>\n",
       "      <td>ND-0002-JulesPatterson.pdf</td>\n",
       "      <td>http://sharkattackfile.net/spreadsheets/pdf_di...</td>\n",
       "      <td>http://sharkattackfile.net/spreadsheets/pdf_di...</td>\n",
       "      <td>ND.0002</td>\n",
       "      <td>ND.0002</td>\n",
       "      <td>3.0</td>\n",
       "    </tr>\n",
       "    <tr>\n",
       "      <th>6301</th>\n",
       "      <td>ND.0001</td>\n",
       "      <td>1845-1853</td>\n",
       "      <td>0.0</td>\n",
       "      <td>Unprovoked</td>\n",
       "      <td>CEYLON (SRI LANKA)</td>\n",
       "      <td>Eastern Province</td>\n",
       "      <td>Below the English fort, Trincomalee</td>\n",
       "      <td>Swimming</td>\n",
       "      <td>male</td>\n",
       "      <td>M</td>\n",
       "      <td>...</td>\n",
       "      <td>Y</td>\n",
       "      <td>NaN</td>\n",
       "      <td>NaN</td>\n",
       "      <td>S.W. Baker</td>\n",
       "      <td>ND-0001-Ceylon.pdf</td>\n",
       "      <td>http://sharkattackfile.net/spreadsheets/pdf_di...</td>\n",
       "      <td>http://sharkattackfile.net/spreadsheets/pdf_di...</td>\n",
       "      <td>ND.0001</td>\n",
       "      <td>ND.0001</td>\n",
       "      <td>2.0</td>\n",
       "    </tr>\n",
       "  </tbody>\n",
       "</table>\n",
       "<p>6302 rows × 22 columns</p>\n",
       "</div>"
      ],
      "text/plain": [
       "     case_number         date    year        type             country  \\\n",
       "0     2018.06.25  25-Jun-2018  2018.0     Boating                 USA   \n",
       "1     2018.06.18  18-Jun-2018  2018.0  Unprovoked                 USA   \n",
       "2     2018.06.09  09-Jun-2018  2018.0     Invalid                 USA   \n",
       "3     2018.06.08  08-Jun-2018  2018.0  Unprovoked           AUSTRALIA   \n",
       "4     2018.06.04  04-Jun-2018  2018.0    Provoked              MEXICO   \n",
       "...          ...          ...     ...         ...                 ...   \n",
       "6297     ND.0005  Before 1903     0.0  Unprovoked           AUSTRALIA   \n",
       "6298     ND.0004  Before 1903     0.0  Unprovoked           AUSTRALIA   \n",
       "6299     ND.0003    1900-1905     0.0  Unprovoked                 USA   \n",
       "6300     ND.0002    1883-1889     0.0  Unprovoked              PANAMA   \n",
       "6301     ND.0001    1845-1853     0.0  Unprovoked  CEYLON (SRI LANKA)   \n",
       "\n",
       "                   area                             location      activity  \\\n",
       "0            California          Oceanside, San Diego County      Paddling   \n",
       "1               Georgia       St. Simon Island, Glynn County      Standing   \n",
       "2                Hawaii                         Habush, Oahu       Surfing   \n",
       "3       New South Wales                   Arrawarra Headland       Surfing   \n",
       "4                Colima                             La Ticla   Free diving   \n",
       "...                 ...                                  ...           ...   \n",
       "6297  Western Australia                          Roebuck Bay        Diving   \n",
       "6298  Western Australia                                  NaN  Pearl diving   \n",
       "6299     North Carolina                       Ocracoke Inlet      Swimming   \n",
       "6300                NaN                   Panama Bay 8N, 79W           NaN   \n",
       "6301   Eastern Province  Below the English fort, Trincomalee      Swimming   \n",
       "\n",
       "                       name sex  ... fatal_y_n           time  \\\n",
       "0               Julie Wolfe   F  ...         N          18h00   \n",
       "1            AdysonMcNeely    F  ...         N  14h00  -15h00   \n",
       "2               John Denges   M  ...         N          07h45   \n",
       "3                      male   M  ...         N            NaN   \n",
       "4            Gustavo Ramos    M  ...         N            NaN   \n",
       "...                     ...  ..  ...       ...            ...   \n",
       "6297                   male   M  ...         Y            NaN   \n",
       "6298                  Ahmun   M  ...         Y            NaN   \n",
       "6299  Coast Guard personnel   M  ...         Y            NaN   \n",
       "6300        Jules Patterson   M  ...         Y            NaN   \n",
       "6301                   male   M  ...         Y            NaN   \n",
       "\n",
       "              species                 investigator_or_source  \\\n",
       "0         White shark                       R. Collier, GSAF   \n",
       "1                 NaN         K.McMurray, TrackingSharks.com   \n",
       "2                 NaN         K.McMurray, TrackingSharks.com   \n",
       "3           2 m shark                         B. Myatt, GSAF   \n",
       "4     Tiger shark, 3m                              A .Kipper   \n",
       "...               ...                                    ...   \n",
       "6297              NaN       H. Taunton; N. Bartlett,  p. 234   \n",
       "6298              NaN  H. Taunton; N. Bartlett,  pp. 233-234   \n",
       "6299              NaN   F. Schwartz, p.23; C. Creswell, GSAF   \n",
       "6300              NaN                    The Sun, 10/20/1938   \n",
       "6301              NaN                             S.W. Baker   \n",
       "\n",
       "                                 pdf  \\\n",
       "0               2018.06.25-Wolfe.pdf   \n",
       "1             2018.06.18-McNeely.pdf   \n",
       "2              2018.06.09-Denges.pdf   \n",
       "3           2018.06.08-Arrawarra.pdf   \n",
       "4               2018.06.04-Ramos.pdf   \n",
       "...                              ...   \n",
       "6297          ND-0005-RoebuckBay.pdf   \n",
       "6298               ND-0004-Ahmun.pdf   \n",
       "6299  ND-0003-Ocracoke_1900-1905.pdf   \n",
       "6300      ND-0002-JulesPatterson.pdf   \n",
       "6301              ND-0001-Ceylon.pdf   \n",
       "\n",
       "                                           href_formula  \\\n",
       "0     http://sharkattackfile.net/spreadsheets/pdf_di...   \n",
       "1     http://sharkattackfile.net/spreadsheets/pdf_di...   \n",
       "2     http://sharkattackfile.net/spreadsheets/pdf_di...   \n",
       "3     http://sharkattackfile.net/spreadsheets/pdf_di...   \n",
       "4     http://sharkattackfile.net/spreadsheets/pdf_di...   \n",
       "...                                                 ...   \n",
       "6297  http://sharkattackfile.net/spreadsheets/pdf_di...   \n",
       "6298  http://sharkattackfile.net/spreadsheets/pdf_di...   \n",
       "6299  http://sharkattackfile.net/spreadsheets/pdf_di...   \n",
       "6300  http://sharkattackfile.net/spreadsheets/pdf_di...   \n",
       "6301  http://sharkattackfile.net/spreadsheets/pdf_di...   \n",
       "\n",
       "                                                   href case_number1  \\\n",
       "0     http://sharkattackfile.net/spreadsheets/pdf_di...   2018.06.25   \n",
       "1     http://sharkattackfile.net/spreadsheets/pdf_di...   2018.06.18   \n",
       "2     http://sharkattackfile.net/spreadsheets/pdf_di...   2018.06.09   \n",
       "3     http://sharkattackfile.net/spreadsheets/pdf_di...   2018.06.08   \n",
       "4     http://sharkattackfile.net/spreadsheets/pdf_di...   2018.06.04   \n",
       "...                                                 ...          ...   \n",
       "6297  http://sharkattackfile.net/spreadsheets/pdf_di...      ND.0005   \n",
       "6298  http://sharkattackfile.net/spreadsheets/pdf_di...      ND.0004   \n",
       "6299  http://sharkattackfile.net/spreadsheets/pdf_di...      ND.0003   \n",
       "6300  http://sharkattackfile.net/spreadsheets/pdf_di...      ND.0002   \n",
       "6301  http://sharkattackfile.net/spreadsheets/pdf_di...      ND.0001   \n",
       "\n",
       "     case_number2 original_order  \n",
       "0      2018.06.25         6303.0  \n",
       "1      2018.06.18         6302.0  \n",
       "2      2018.06.09         6301.0  \n",
       "3      2018.06.08         6300.0  \n",
       "4      2018.06.04         6299.0  \n",
       "...           ...            ...  \n",
       "6297      ND.0005            6.0  \n",
       "6298      ND.0004            5.0  \n",
       "6299      ND.0003            4.0  \n",
       "6300      ND.0002            3.0  \n",
       "6301      ND.0001            2.0  \n",
       "\n",
       "[6302 rows x 22 columns]"
      ]
     },
     "execution_count": 249,
     "metadata": {},
     "output_type": "execute_result"
    }
   ],
   "source": [
    "df.drop(df.loc[(df['case_number']=='0')].index, inplace = True)\n",
    "df.drop(df.loc[(df['case_number']=='xx')].index, inplace = True)\n",
    "df"
   ]
  },
  {
   "cell_type": "code",
   "execution_count": 250,
   "id": "2bf45498-c327-4e1e-82a7-d5e208e4243b",
   "metadata": {},
   "outputs": [
    {
     "data": {
      "text/plain": [
       "array(['F', 'M', nan, 'M ', 'lli', 'N', '.'], dtype=object)"
      ]
     },
     "execution_count": 250,
     "metadata": {},
     "output_type": "execute_result"
    }
   ],
   "source": [
    "df.sex.unique()"
   ]
  },
  {
   "cell_type": "code",
   "execution_count": 251,
   "id": "012265c8-9986-4fa6-8cb5-0d5fccfe424b",
   "metadata": {},
   "outputs": [
    {
     "data": {
      "text/html": [
       "<div>\n",
       "<style scoped>\n",
       "    .dataframe tbody tr th:only-of-type {\n",
       "        vertical-align: middle;\n",
       "    }\n",
       "\n",
       "    .dataframe tbody tr th {\n",
       "        vertical-align: top;\n",
       "    }\n",
       "\n",
       "    .dataframe thead th {\n",
       "        text-align: right;\n",
       "    }\n",
       "</style>\n",
       "<table border=\"1\" class=\"dataframe\">\n",
       "  <thead>\n",
       "    <tr style=\"text-align: right;\">\n",
       "      <th></th>\n",
       "      <th>case_number</th>\n",
       "      <th>date</th>\n",
       "      <th>year</th>\n",
       "      <th>type</th>\n",
       "      <th>country</th>\n",
       "      <th>area</th>\n",
       "      <th>location</th>\n",
       "      <th>activity</th>\n",
       "      <th>name</th>\n",
       "      <th>sex</th>\n",
       "      <th>...</th>\n",
       "      <th>fatal_y_n</th>\n",
       "      <th>time</th>\n",
       "      <th>species</th>\n",
       "      <th>investigator_or_source</th>\n",
       "      <th>pdf</th>\n",
       "      <th>href_formula</th>\n",
       "      <th>href</th>\n",
       "      <th>case_number1</th>\n",
       "      <th>case_number2</th>\n",
       "      <th>original_order</th>\n",
       "    </tr>\n",
       "  </thead>\n",
       "  <tbody>\n",
       "    <tr>\n",
       "      <th>5437</th>\n",
       "      <td>1908.06.02.R</td>\n",
       "      <td>Reported 02-Jun-1908</td>\n",
       "      <td>1908.0</td>\n",
       "      <td>Sea Disaster</td>\n",
       "      <td>PAPUA NEW GUINEA</td>\n",
       "      <td>New Britain</td>\n",
       "      <td>Matupi</td>\n",
       "      <td>.</td>\n",
       "      <td>NaN</td>\n",
       "      <td>.</td>\n",
       "      <td>...</td>\n",
       "      <td>Y</td>\n",
       "      <td>NaN</td>\n",
       "      <td>Allegedly a 33-foot shark</td>\n",
       "      <td>Taranaki Herald, 6/2/1908</td>\n",
       "      <td>1908.06.02.R-Matupi.pdf</td>\n",
       "      <td>http://sharkattackfile.net/spreadsheets/pdf_di...</td>\n",
       "      <td>http://sharkattackfile.net/spreadsheets/pdf_di...</td>\n",
       "      <td>1908.06.02.R</td>\n",
       "      <td>1908.06.02.R</td>\n",
       "      <td>866.0</td>\n",
       "    </tr>\n",
       "  </tbody>\n",
       "</table>\n",
       "<p>1 rows × 22 columns</p>\n",
       "</div>"
      ],
      "text/plain": [
       "       case_number                  date    year          type  \\\n",
       "5437  1908.06.02.R  Reported 02-Jun-1908  1908.0  Sea Disaster   \n",
       "\n",
       "               country         area location activity name sex  ... fatal_y_n  \\\n",
       "5437  PAPUA NEW GUINEA  New Britain   Matupi        .  NaN   .  ...         Y   \n",
       "\n",
       "     time                    species     investigator_or_source  \\\n",
       "5437  NaN  Allegedly a 33-foot shark  Taranaki Herald, 6/2/1908   \n",
       "\n",
       "                          pdf  \\\n",
       "5437  1908.06.02.R-Matupi.pdf   \n",
       "\n",
       "                                           href_formula  \\\n",
       "5437  http://sharkattackfile.net/spreadsheets/pdf_di...   \n",
       "\n",
       "                                                   href  case_number1  \\\n",
       "5437  http://sharkattackfile.net/spreadsheets/pdf_di...  1908.06.02.R   \n",
       "\n",
       "      case_number2 original_order  \n",
       "5437  1908.06.02.R          866.0  \n",
       "\n",
       "[1 rows x 22 columns]"
      ]
     },
     "execution_count": 251,
     "metadata": {},
     "output_type": "execute_result"
    }
   ],
   "source": [
    "df[(df['sex']=='.')]\n",
    "\n",
    "# Unknown."
   ]
  },
  {
   "cell_type": "code",
   "execution_count": 252,
   "id": "c46a45c7-0842-4f62-b7d6-4bde1d2d3eb2",
   "metadata": {},
   "outputs": [
    {
     "data": {
      "text/html": [
       "<div>\n",
       "<style scoped>\n",
       "    .dataframe tbody tr th:only-of-type {\n",
       "        vertical-align: middle;\n",
       "    }\n",
       "\n",
       "    .dataframe tbody tr th {\n",
       "        vertical-align: top;\n",
       "    }\n",
       "\n",
       "    .dataframe thead th {\n",
       "        text-align: right;\n",
       "    }\n",
       "</style>\n",
       "<table border=\"1\" class=\"dataframe\">\n",
       "  <thead>\n",
       "    <tr style=\"text-align: right;\">\n",
       "      <th></th>\n",
       "      <th>case_number</th>\n",
       "      <th>date</th>\n",
       "      <th>year</th>\n",
       "      <th>type</th>\n",
       "      <th>country</th>\n",
       "      <th>area</th>\n",
       "      <th>location</th>\n",
       "      <th>activity</th>\n",
       "      <th>name</th>\n",
       "      <th>sex</th>\n",
       "      <th>...</th>\n",
       "      <th>fatal_y_n</th>\n",
       "      <th>time</th>\n",
       "      <th>species</th>\n",
       "      <th>investigator_or_source</th>\n",
       "      <th>pdf</th>\n",
       "      <th>href_formula</th>\n",
       "      <th>href</th>\n",
       "      <th>case_number1</th>\n",
       "      <th>case_number2</th>\n",
       "      <th>original_order</th>\n",
       "    </tr>\n",
       "  </thead>\n",
       "  <tbody>\n",
       "    <tr>\n",
       "      <th>1624</th>\n",
       "      <td>2004.11.11.b</td>\n",
       "      <td>11-Nov-2004</td>\n",
       "      <td>2004.0</td>\n",
       "      <td>Unprovoked</td>\n",
       "      <td>USA</td>\n",
       "      <td>California</td>\n",
       "      <td>Bunkers, Humboldt Bay, Eureka, Humboldt County</td>\n",
       "      <td>Surfing</td>\n",
       "      <td>Brian Kang</td>\n",
       "      <td>lli</td>\n",
       "      <td>...</td>\n",
       "      <td>N</td>\n",
       "      <td>13h30</td>\n",
       "      <td>5.5 m [18'] white shark</td>\n",
       "      <td>R. Collier, GSAF</td>\n",
       "      <td>2004.11.11.b-Kang.pdf</td>\n",
       "      <td>http://sharkattackfile.net/spreadsheets/pdf_di...</td>\n",
       "      <td>http://sharkattackfile.net/spreadsheets/pdf_di...</td>\n",
       "      <td>2004.11.11.b</td>\n",
       "      <td>2004.11.11.b</td>\n",
       "      <td>4679.0</td>\n",
       "    </tr>\n",
       "  </tbody>\n",
       "</table>\n",
       "<p>1 rows × 22 columns</p>\n",
       "</div>"
      ],
      "text/plain": [
       "       case_number         date    year        type country        area  \\\n",
       "1624  2004.11.11.b  11-Nov-2004  2004.0  Unprovoked     USA  California   \n",
       "\n",
       "                                            location activity        name  \\\n",
       "1624  Bunkers, Humboldt Bay, Eureka, Humboldt County  Surfing  Brian Kang   \n",
       "\n",
       "      sex  ... fatal_y_n   time                  species  \\\n",
       "1624  lli  ...         N  13h30  5.5 m [18'] white shark   \n",
       "\n",
       "                investigator_or_source                    pdf  \\\n",
       "1624  R. Collier, GSAF                  2004.11.11.b-Kang.pdf   \n",
       "\n",
       "                                           href_formula  \\\n",
       "1624  http://sharkattackfile.net/spreadsheets/pdf_di...   \n",
       "\n",
       "                                                   href  case_number1  \\\n",
       "1624  http://sharkattackfile.net/spreadsheets/pdf_di...  2004.11.11.b   \n",
       "\n",
       "      case_number2 original_order  \n",
       "1624  2004.11.11.b         4679.0  \n",
       "\n",
       "[1 rows x 22 columns]"
      ]
     },
     "execution_count": 252,
     "metadata": {},
     "output_type": "execute_result"
    }
   ],
   "source": [
    "df[(df['sex']=='lli')]\n",
    "\n",
    "# M."
   ]
  },
  {
   "cell_type": "code",
   "execution_count": 253,
   "id": "1b0dc5b4-2449-45cb-9ce5-079f1155691f",
   "metadata": {},
   "outputs": [
    {
     "data": {
      "text/html": [
       "<div>\n",
       "<style scoped>\n",
       "    .dataframe tbody tr th:only-of-type {\n",
       "        vertical-align: middle;\n",
       "    }\n",
       "\n",
       "    .dataframe tbody tr th {\n",
       "        vertical-align: top;\n",
       "    }\n",
       "\n",
       "    .dataframe thead th {\n",
       "        text-align: right;\n",
       "    }\n",
       "</style>\n",
       "<table border=\"1\" class=\"dataframe\">\n",
       "  <thead>\n",
       "    <tr style=\"text-align: right;\">\n",
       "      <th></th>\n",
       "      <th>case_number</th>\n",
       "      <th>date</th>\n",
       "      <th>year</th>\n",
       "      <th>type</th>\n",
       "      <th>country</th>\n",
       "      <th>area</th>\n",
       "      <th>location</th>\n",
       "      <th>activity</th>\n",
       "      <th>name</th>\n",
       "      <th>sex</th>\n",
       "      <th>...</th>\n",
       "      <th>fatal_y_n</th>\n",
       "      <th>time</th>\n",
       "      <th>species</th>\n",
       "      <th>investigator_or_source</th>\n",
       "      <th>pdf</th>\n",
       "      <th>href_formula</th>\n",
       "      <th>href</th>\n",
       "      <th>case_number1</th>\n",
       "      <th>case_number2</th>\n",
       "      <th>original_order</th>\n",
       "    </tr>\n",
       "  </thead>\n",
       "  <tbody>\n",
       "    <tr>\n",
       "      <th>4938</th>\n",
       "      <td>1934.07.11</td>\n",
       "      <td>11-Jul-1934</td>\n",
       "      <td>1934.0</td>\n",
       "      <td>Boating</td>\n",
       "      <td>AUSTRALIA</td>\n",
       "      <td>New South Wales</td>\n",
       "      <td>Cronulla</td>\n",
       "      <td>Fishing</td>\n",
       "      <td>18' boat, occupants William &amp; Leslie Newton</td>\n",
       "      <td>N</td>\n",
       "      <td>...</td>\n",
       "      <td>N</td>\n",
       "      <td>NaN</td>\n",
       "      <td>Blue pointer, 11'</td>\n",
       "      <td>G.P. Whitley, ref: Daily Telegraph, 7/11/1934 ...</td>\n",
       "      <td>1934.07.11-Newton-boat-Australia.pdf</td>\n",
       "      <td>http://sharkattackfile.net/spreadsheets/pdf_di...</td>\n",
       "      <td>http://sharkattackfile.net/spreadsheets/pdf_di...</td>\n",
       "      <td>1934.07.11</td>\n",
       "      <td>1934.07.11</td>\n",
       "      <td>1365.0</td>\n",
       "    </tr>\n",
       "    <tr>\n",
       "      <th>6131</th>\n",
       "      <td>1801.12.18.R</td>\n",
       "      <td>Reported 18-Dec-1801</td>\n",
       "      <td>1801.0</td>\n",
       "      <td>Provoked</td>\n",
       "      <td>NaN</td>\n",
       "      <td>NaN</td>\n",
       "      <td>NaN</td>\n",
       "      <td>Standing on landed shark's tail</td>\n",
       "      <td>Stephen Pettigew</td>\n",
       "      <td>N</td>\n",
       "      <td>...</td>\n",
       "      <td>Y</td>\n",
       "      <td>NaN</td>\n",
       "      <td>12' shark</td>\n",
       "      <td>The Evening Post, 12/18/1801</td>\n",
       "      <td>1801.12.18.R-Pettigrew.pdf</td>\n",
       "      <td>http://sharkattackfile.net/spreadsheets/pdf_di...</td>\n",
       "      <td>http://sharkattackfile.net/spreadsheets/pdf_di...</td>\n",
       "      <td>1801.12.18.R</td>\n",
       "      <td>1801.12.18.R</td>\n",
       "      <td>172.0</td>\n",
       "    </tr>\n",
       "  </tbody>\n",
       "</table>\n",
       "<p>2 rows × 22 columns</p>\n",
       "</div>"
      ],
      "text/plain": [
       "       case_number                  date    year      type    country  \\\n",
       "4938    1934.07.11           11-Jul-1934  1934.0   Boating  AUSTRALIA   \n",
       "6131  1801.12.18.R  Reported 18-Dec-1801  1801.0  Provoked        NaN   \n",
       "\n",
       "                 area  location                         activity  \\\n",
       "4938  New South Wales  Cronulla                          Fishing   \n",
       "6131              NaN       NaN  Standing on landed shark's tail   \n",
       "\n",
       "                                             name sex  ... fatal_y_n time  \\\n",
       "4938  18' boat, occupants William & Leslie Newton   N  ...         N  NaN   \n",
       "6131                             Stephen Pettigew   N  ...         Y  NaN   \n",
       "\n",
       "                 species                             investigator_or_source  \\\n",
       "4938  Blue pointer, 11'   G.P. Whitley, ref: Daily Telegraph, 7/11/1934 ...   \n",
       "6131           12' shark                       The Evening Post, 12/18/1801   \n",
       "\n",
       "                                       pdf  \\\n",
       "4938  1934.07.11-Newton-boat-Australia.pdf   \n",
       "6131            1801.12.18.R-Pettigrew.pdf   \n",
       "\n",
       "                                           href_formula  \\\n",
       "4938  http://sharkattackfile.net/spreadsheets/pdf_di...   \n",
       "6131  http://sharkattackfile.net/spreadsheets/pdf_di...   \n",
       "\n",
       "                                                   href  case_number1  \\\n",
       "4938  http://sharkattackfile.net/spreadsheets/pdf_di...    1934.07.11   \n",
       "6131  http://sharkattackfile.net/spreadsheets/pdf_di...  1801.12.18.R   \n",
       "\n",
       "      case_number2 original_order  \n",
       "4938    1934.07.11         1365.0  \n",
       "6131  1801.12.18.R          172.0  \n",
       "\n",
       "[2 rows x 22 columns]"
      ]
     },
     "execution_count": 253,
     "metadata": {},
     "output_type": "execute_result"
    }
   ],
   "source": [
    "df[(df['sex']=='N')]\n",
    "\n",
    "# M también."
   ]
  },
  {
   "cell_type": "code",
   "execution_count": 254,
   "id": "764d0f43-0a68-4122-be26-8d1d82b86869",
   "metadata": {},
   "outputs": [
    {
     "data": {
      "text/html": [
       "<div>\n",
       "<style scoped>\n",
       "    .dataframe tbody tr th:only-of-type {\n",
       "        vertical-align: middle;\n",
       "    }\n",
       "\n",
       "    .dataframe tbody tr th {\n",
       "        vertical-align: top;\n",
       "    }\n",
       "\n",
       "    .dataframe thead th {\n",
       "        text-align: right;\n",
       "    }\n",
       "</style>\n",
       "<table border=\"1\" class=\"dataframe\">\n",
       "  <thead>\n",
       "    <tr style=\"text-align: right;\">\n",
       "      <th></th>\n",
       "      <th>case_number</th>\n",
       "      <th>date</th>\n",
       "      <th>year</th>\n",
       "      <th>type</th>\n",
       "      <th>country</th>\n",
       "      <th>area</th>\n",
       "      <th>location</th>\n",
       "      <th>activity</th>\n",
       "      <th>name</th>\n",
       "      <th>sex</th>\n",
       "      <th>...</th>\n",
       "      <th>fatal_y_n</th>\n",
       "      <th>time</th>\n",
       "      <th>species</th>\n",
       "      <th>investigator_or_source</th>\n",
       "      <th>pdf</th>\n",
       "      <th>href_formula</th>\n",
       "      <th>href</th>\n",
       "      <th>case_number1</th>\n",
       "      <th>case_number2</th>\n",
       "      <th>original_order</th>\n",
       "    </tr>\n",
       "  </thead>\n",
       "  <tbody>\n",
       "    <tr>\n",
       "      <th>5437</th>\n",
       "      <td>1908.06.02.R</td>\n",
       "      <td>Reported 02-Jun-1908</td>\n",
       "      <td>1908.0</td>\n",
       "      <td>Sea Disaster</td>\n",
       "      <td>PAPUA NEW GUINEA</td>\n",
       "      <td>New Britain</td>\n",
       "      <td>Matupi</td>\n",
       "      <td>.</td>\n",
       "      <td>NaN</td>\n",
       "      <td>.</td>\n",
       "      <td>...</td>\n",
       "      <td>Y</td>\n",
       "      <td>NaN</td>\n",
       "      <td>Allegedly a 33-foot shark</td>\n",
       "      <td>Taranaki Herald, 6/2/1908</td>\n",
       "      <td>1908.06.02.R-Matupi.pdf</td>\n",
       "      <td>http://sharkattackfile.net/spreadsheets/pdf_di...</td>\n",
       "      <td>http://sharkattackfile.net/spreadsheets/pdf_di...</td>\n",
       "      <td>1908.06.02.R</td>\n",
       "      <td>1908.06.02.R</td>\n",
       "      <td>866.0</td>\n",
       "    </tr>\n",
       "  </tbody>\n",
       "</table>\n",
       "<p>1 rows × 22 columns</p>\n",
       "</div>"
      ],
      "text/plain": [
       "       case_number                  date    year          type  \\\n",
       "5437  1908.06.02.R  Reported 02-Jun-1908  1908.0  Sea Disaster   \n",
       "\n",
       "               country         area location activity name sex  ... fatal_y_n  \\\n",
       "5437  PAPUA NEW GUINEA  New Britain   Matupi        .  NaN   .  ...         Y   \n",
       "\n",
       "     time                    species     investigator_or_source  \\\n",
       "5437  NaN  Allegedly a 33-foot shark  Taranaki Herald, 6/2/1908   \n",
       "\n",
       "                          pdf  \\\n",
       "5437  1908.06.02.R-Matupi.pdf   \n",
       "\n",
       "                                           href_formula  \\\n",
       "5437  http://sharkattackfile.net/spreadsheets/pdf_di...   \n",
       "\n",
       "                                                   href  case_number1  \\\n",
       "5437  http://sharkattackfile.net/spreadsheets/pdf_di...  1908.06.02.R   \n",
       "\n",
       "      case_number2 original_order  \n",
       "5437  1908.06.02.R          866.0  \n",
       "\n",
       "[1 rows x 22 columns]"
      ]
     },
     "execution_count": 254,
     "metadata": {},
     "output_type": "execute_result"
    }
   ],
   "source": [
    "df[(df['sex']=='.')]\n",
    "\n",
    "# Unknown."
   ]
  },
  {
   "cell_type": "code",
   "execution_count": 255,
   "id": "07fe4098-0163-4997-b9ec-af49785b9b54",
   "metadata": {},
   "outputs": [
    {
     "data": {
      "text/html": [
       "<div>\n",
       "<style scoped>\n",
       "    .dataframe tbody tr th:only-of-type {\n",
       "        vertical-align: middle;\n",
       "    }\n",
       "\n",
       "    .dataframe tbody tr th {\n",
       "        vertical-align: top;\n",
       "    }\n",
       "\n",
       "    .dataframe thead th {\n",
       "        text-align: right;\n",
       "    }\n",
       "</style>\n",
       "<table border=\"1\" class=\"dataframe\">\n",
       "  <thead>\n",
       "    <tr style=\"text-align: right;\">\n",
       "      <th></th>\n",
       "      <th>sex</th>\n",
       "      <th>name</th>\n",
       "    </tr>\n",
       "  </thead>\n",
       "  <tbody>\n",
       "    <tr>\n",
       "      <th>59</th>\n",
       "      <td>NaN</td>\n",
       "      <td>31 migrants</td>\n",
       "    </tr>\n",
       "    <tr>\n",
       "      <th>179</th>\n",
       "      <td>NaN</td>\n",
       "      <td>Chip Michelove &amp; crew</td>\n",
       "    </tr>\n",
       "    <tr>\n",
       "      <th>218</th>\n",
       "      <td>NaN</td>\n",
       "      <td>Occupant: Ben Stratton</td>\n",
       "    </tr>\n",
       "    <tr>\n",
       "      <th>243</th>\n",
       "      <td>NaN</td>\n",
       "      <td>Occupant: Ben Raines</td>\n",
       "    </tr>\n",
       "    <tr>\n",
       "      <th>297</th>\n",
       "      <td>NaN</td>\n",
       "      <td>unknown</td>\n",
       "    </tr>\n",
       "    <tr>\n",
       "      <th>...</th>\n",
       "      <td>...</td>\n",
       "      <td>...</td>\n",
       "    </tr>\n",
       "    <tr>\n",
       "      <th>6167</th>\n",
       "      <td>NaN</td>\n",
       "      <td>Indian people</td>\n",
       "    </tr>\n",
       "    <tr>\n",
       "      <th>6202</th>\n",
       "      <td>NaN</td>\n",
       "      <td>Passenger &amp; crew</td>\n",
       "    </tr>\n",
       "    <tr>\n",
       "      <th>6212</th>\n",
       "      <td>NaN</td>\n",
       "      <td>4.8-metre skiboat, Occupants: Rod Salm &amp; 4 fri...</td>\n",
       "    </tr>\n",
       "    <tr>\n",
       "      <th>6259</th>\n",
       "      <td>NaN</td>\n",
       "      <td>C.</td>\n",
       "    </tr>\n",
       "    <tr>\n",
       "      <th>6287</th>\n",
       "      <td>NaN</td>\n",
       "      <td>20 Fijians</td>\n",
       "    </tr>\n",
       "  </tbody>\n",
       "</table>\n",
       "<p>420 rows × 2 columns</p>\n",
       "</div>"
      ],
      "text/plain": [
       "      sex                                               name\n",
       "59    NaN                                        31 migrants\n",
       "179   NaN                              Chip Michelove & crew\n",
       "218   NaN                             Occupant: Ben Stratton\n",
       "243   NaN                               Occupant: Ben Raines\n",
       "297   NaN                                            unknown\n",
       "...   ...                                                ...\n",
       "6167  NaN                                      Indian people\n",
       "6202  NaN                                   Passenger & crew\n",
       "6212  NaN  4.8-metre skiboat, Occupants: Rod Salm & 4 fri...\n",
       "6259  NaN                                                 C.\n",
       "6287  NaN                                         20 Fijians\n",
       "\n",
       "[420 rows x 2 columns]"
      ]
     },
     "execution_count": 255,
     "metadata": {},
     "output_type": "execute_result"
    }
   ],
   "source": [
    "df[(df.sex.isnull()) & (df.name.notnull())][['sex', 'name']]\n",
    "\n",
    "# Son muchos registros para ver el 1 a 1, así que se asume unknown."
   ]
  },
  {
   "cell_type": "code",
   "execution_count": 256,
   "id": "fa3ce596-26e7-44b7-b4a9-aa89b7487cd8",
   "metadata": {},
   "outputs": [],
   "source": [
    "df[df.sex.isnull()] = df[df.sex.isnull()].fillna('unknown')"
   ]
  },
  {
   "cell_type": "code",
   "execution_count": 257,
   "id": "28cb6907-f851-4013-bd0c-7db2a1617cf2",
   "metadata": {},
   "outputs": [],
   "source": [
    "df.sex = df.sex.replace({'M ':'M', 'lli':'M', 'N':'M', '.':'unknown'})"
   ]
  },
  {
   "cell_type": "code",
   "execution_count": 258,
   "id": "4a1e9e43-5d01-40c8-8f6c-3138e78c0d4d",
   "metadata": {},
   "outputs": [
    {
     "data": {
      "text/plain": [
       "array(['f', 'm', 'unknown'], dtype=object)"
      ]
     },
     "execution_count": 258,
     "metadata": {},
     "output_type": "execute_result"
    }
   ],
   "source": [
    "df.sex = df.sex.str.lower()\n",
    "df.sex.unique()"
   ]
  },
  {
   "cell_type": "markdown",
   "id": "92bf7969-ca09-4fc9-af6a-538c9a6e37cc",
   "metadata": {},
   "source": [
    "## Injury"
   ]
  },
  {
   "cell_type": "code",
   "execution_count": 259,
   "id": "468faa33-4395-4fd1-9882-09e9d7417932",
   "metadata": {},
   "outputs": [
    {
     "data": {
      "text/plain": [
       "0       no injury to occupant, outrigger canoe and pad...\n",
       "1                              minor injury to left thigh\n",
       "2            injury to left lower leg from surfboard skeg\n",
       "3                               minor injury to lower leg\n",
       "4       lacerations to leg & hand shark provoked incident\n",
       "                              ...                        \n",
       "6297                                                fatal\n",
       "6298                                                fatal\n",
       "6299                                                fatal\n",
       "6300                                                fatal\n",
       "6301    fatal. \"shark bit him in half, carrying away t...\n",
       "Name: injury, Length: 6302, dtype: object"
      ]
     },
     "execution_count": 259,
     "metadata": {},
     "output_type": "execute_result"
    }
   ],
   "source": [
    "df.injury = df.injury.str.lower()\n",
    "df.injury"
   ]
  },
  {
   "cell_type": "code",
   "execution_count": 260,
   "id": "0a312062-4761-4258-b610-9bc47e40fca8",
   "metadata": {},
   "outputs": [
    {
     "data": {
      "text/plain": [
       "0       no injury to occupant, outrigger canoe and pad...\n",
       "1                              minor injury to left thigh\n",
       "2            injury to left lower leg from surfboard skeg\n",
       "3                               minor injury to lower leg\n",
       "4       lacerations to leg & hand shark provoked incident\n",
       "                              ...                        \n",
       "6297                                                fatal\n",
       "6298                                                fatal\n",
       "6299                                                fatal\n",
       "6300                                                fatal\n",
       "6301                                                fatal\n",
       "Name: injury, Length: 6302, dtype: object"
      ]
     },
     "execution_count": 260,
     "metadata": {},
     "output_type": "execute_result"
    }
   ],
   "source": [
    "df.injury = df.injury.str.replace('fatal.*,*', 'fatal', regex = True)\n",
    "df.injury"
   ]
  },
  {
   "cell_type": "code",
   "execution_count": 261,
   "id": "1e77a2e5-4b82-4ed8-96b8-fd77d9888f6a",
   "metadata": {},
   "outputs": [
    {
     "data": {
      "text/plain": [
       "1300"
      ]
     },
     "execution_count": 261,
     "metadata": {},
     "output_type": "execute_result"
    }
   ],
   "source": [
    "df[(df['injury'] == 'fatal')][['injury']].shape[0]"
   ]
  },
  {
   "cell_type": "code",
   "execution_count": 262,
   "id": "1352ad7d-2e01-452c-8591-1db6d5024ad5",
   "metadata": {},
   "outputs": [],
   "source": [
    "df[df.injury.isnull()] = df[df.injury.isnull()].fillna('unknown')"
   ]
  },
  {
   "cell_type": "code",
   "execution_count": 263,
   "id": "1bd47daa-38d2-4fe7-9bef-c0b3452d621c",
   "metadata": {},
   "outputs": [
    {
     "data": {
      "text/plain": [
       "(38, 2)"
      ]
     },
     "execution_count": 263,
     "metadata": {},
     "output_type": "execute_result"
    }
   ],
   "source": [
    "df[(df.injury == 'fatal') & (df.fatal_y_n.isnull())][['fatal_y_n', 'injury']].shape"
   ]
  },
  {
   "cell_type": "markdown",
   "id": "60934313-9bfb-4e78-9d30-ec3e91f59bdd",
   "metadata": {},
   "source": [
    "### Fatal_y_n"
   ]
  },
  {
   "cell_type": "code",
   "execution_count": 264,
   "id": "c5c0a39d-e00e-465a-ac20-065a21fbdaf5",
   "metadata": {},
   "outputs": [
    {
     "data": {
      "text/html": [
       "<div>\n",
       "<style scoped>\n",
       "    .dataframe tbody tr th:only-of-type {\n",
       "        vertical-align: middle;\n",
       "    }\n",
       "\n",
       "    .dataframe tbody tr th {\n",
       "        vertical-align: top;\n",
       "    }\n",
       "\n",
       "    .dataframe thead th {\n",
       "        text-align: right;\n",
       "    }\n",
       "</style>\n",
       "<table border=\"1\" class=\"dataframe\">\n",
       "  <thead>\n",
       "    <tr style=\"text-align: right;\">\n",
       "      <th></th>\n",
       "      <th>fatal_y_n</th>\n",
       "      <th>injury</th>\n",
       "    </tr>\n",
       "  </thead>\n",
       "  <tbody>\n",
       "    <tr>\n",
       "      <th>27</th>\n",
       "      <td>NaN</td>\n",
       "      <td>multiple severe injuries to arms and leg, leg ...</td>\n",
       "    </tr>\n",
       "    <tr>\n",
       "      <th>76</th>\n",
       "      <td>NaN</td>\n",
       "      <td>fatal</td>\n",
       "    </tr>\n",
       "    <tr>\n",
       "      <th>79</th>\n",
       "      <td>NaN</td>\n",
       "      <td>lacerations to right ankle, foot &amp; toe</td>\n",
       "    </tr>\n",
       "    <tr>\n",
       "      <th>84</th>\n",
       "      <td>NaN</td>\n",
       "      <td>fatal</td>\n",
       "    </tr>\n",
       "    <tr>\n",
       "      <th>98</th>\n",
       "      <td>NaN</td>\n",
       "      <td>lacerations to left foot</td>\n",
       "    </tr>\n",
       "    <tr>\n",
       "      <th>...</th>\n",
       "      <td>...</td>\n",
       "      <td>...</td>\n",
       "    </tr>\n",
       "    <tr>\n",
       "      <th>6126</th>\n",
       "      <td>NaN</td>\n",
       "      <td>human remains (male) found in sharks gut</td>\n",
       "    </tr>\n",
       "    <tr>\n",
       "      <th>6147</th>\n",
       "      <td>NaN</td>\n",
       "      <td>lacerations to arm &amp; leg</td>\n",
       "    </tr>\n",
       "    <tr>\n",
       "      <th>6158</th>\n",
       "      <td>NaN</td>\n",
       "      <td>struck on thigh</td>\n",
       "    </tr>\n",
       "    <tr>\n",
       "      <th>6164</th>\n",
       "      <td>NaN</td>\n",
       "      <td>fatal</td>\n",
       "    </tr>\n",
       "    <tr>\n",
       "      <th>6232</th>\n",
       "      <td>NaN</td>\n",
       "      <td>a 4.3 m [14'] shark made threat display. no in...</td>\n",
       "    </tr>\n",
       "  </tbody>\n",
       "</table>\n",
       "<p>459 rows × 2 columns</p>\n",
       "</div>"
      ],
      "text/plain": [
       "     fatal_y_n                                             injury\n",
       "27         NaN  multiple severe injuries to arms and leg, leg ...\n",
       "76         NaN                                              fatal\n",
       "79         NaN             lacerations to right ankle, foot & toe\n",
       "84         NaN                                              fatal\n",
       "98         NaN                           lacerations to left foot\n",
       "...        ...                                                ...\n",
       "6126       NaN           human remains (male) found in sharks gut\n",
       "6147       NaN                           lacerations to arm & leg\n",
       "6158       NaN                                    struck on thigh\n",
       "6164       NaN                                              fatal\n",
       "6232       NaN  a 4.3 m [14'] shark made threat display. no in...\n",
       "\n",
       "[459 rows x 2 columns]"
      ]
     },
     "execution_count": 264,
     "metadata": {},
     "output_type": "execute_result"
    }
   ],
   "source": [
    "df[(df.fatal_y_n.isnull())][['fatal_y_n', 'injury']]"
   ]
  },
  {
   "cell_type": "code",
   "execution_count": 265,
   "id": "327f8bde-38ce-4009-8b71-b1137d54e113",
   "metadata": {},
   "outputs": [],
   "source": [
    "df.loc[(df['fatal_y_n'].isnull()) & (df.injury == 'fatal'), 'fatal_y_n'] = 'Y'"
   ]
  },
  {
   "cell_type": "code",
   "execution_count": 266,
   "id": "1fb1c287-44dd-41fd-a6bf-152e23e45e7b",
   "metadata": {},
   "outputs": [
    {
     "data": {
      "text/plain": [
       "array(['N', 'Y', nan, 'unknown', 'M', 'UNKNOWN', '2017', ' N', 'N ', 'y'],\n",
       "      dtype=object)"
      ]
     },
     "execution_count": 266,
     "metadata": {},
     "output_type": "execute_result"
    }
   ],
   "source": [
    "df.fatal_y_n.unique()"
   ]
  },
  {
   "cell_type": "code",
   "execution_count": 267,
   "id": "877d5552-7908-474c-ad61-b2179c02b41b",
   "metadata": {},
   "outputs": [
    {
     "data": {
      "text/plain": [
       "array(['n', 'y', nan, 'unknown', 'm', '2017', ' n', 'n '], dtype=object)"
      ]
     },
     "execution_count": 267,
     "metadata": {},
     "output_type": "execute_result"
    }
   ],
   "source": [
    "df.fatal_y_n = df.fatal_y_n = df.fatal_y_n.str.lower()\n",
    "df.fatal_y_n.unique()"
   ]
  },
  {
   "cell_type": "code",
   "execution_count": 268,
   "id": "83422364-e364-46be-a3f9-499c798fef33",
   "metadata": {},
   "outputs": [
    {
     "data": {
      "text/plain": [
       "array(['n', 'y', nan, 'unknown', 'm', '2017'], dtype=object)"
      ]
     },
     "execution_count": 268,
     "metadata": {},
     "output_type": "execute_result"
    }
   ],
   "source": [
    "df.fatal_y_n = df.fatal_y_n.str.replace(' ', '', regex = False)\n",
    "df.fatal_y_n.unique()"
   ]
  },
  {
   "cell_type": "code",
   "execution_count": 269,
   "id": "b1ff5f48-0557-4344-b8b1-6b3a1882a94c",
   "metadata": {},
   "outputs": [
    {
     "data": {
      "text/html": [
       "<div>\n",
       "<style scoped>\n",
       "    .dataframe tbody tr th:only-of-type {\n",
       "        vertical-align: middle;\n",
       "    }\n",
       "\n",
       "    .dataframe tbody tr th {\n",
       "        vertical-align: top;\n",
       "    }\n",
       "\n",
       "    .dataframe thead th {\n",
       "        text-align: right;\n",
       "    }\n",
       "</style>\n",
       "<table border=\"1\" class=\"dataframe\">\n",
       "  <thead>\n",
       "    <tr style=\"text-align: right;\">\n",
       "      <th></th>\n",
       "      <th>fatal_y_n</th>\n",
       "      <th>injury</th>\n",
       "    </tr>\n",
       "  </thead>\n",
       "  <tbody>\n",
       "    <tr>\n",
       "      <th>285</th>\n",
       "      <td>m</td>\n",
       "      <td>laceration to knee by speared shark provoked i...</td>\n",
       "    </tr>\n",
       "  </tbody>\n",
       "</table>\n",
       "</div>"
      ],
      "text/plain": [
       "    fatal_y_n                                             injury\n",
       "285         m  laceration to knee by speared shark provoked i..."
      ]
     },
     "execution_count": 269,
     "metadata": {},
     "output_type": "execute_result"
    }
   ],
   "source": [
    "df[(df['fatal_y_n']=='m')][['fatal_y_n', 'injury']]\n",
    "\n",
    "# Unkown."
   ]
  },
  {
   "cell_type": "code",
   "execution_count": 270,
   "id": "4cb6dfec-7565-4410-9b11-e5ee59b0b51f",
   "metadata": {},
   "outputs": [
    {
     "data": {
      "text/html": [
       "<div>\n",
       "<style scoped>\n",
       "    .dataframe tbody tr th:only-of-type {\n",
       "        vertical-align: middle;\n",
       "    }\n",
       "\n",
       "    .dataframe tbody tr th {\n",
       "        vertical-align: top;\n",
       "    }\n",
       "\n",
       "    .dataframe thead th {\n",
       "        text-align: right;\n",
       "    }\n",
       "</style>\n",
       "<table border=\"1\" class=\"dataframe\">\n",
       "  <thead>\n",
       "    <tr style=\"text-align: right;\">\n",
       "      <th></th>\n",
       "      <th>fatal_y_n</th>\n",
       "      <th>injury</th>\n",
       "    </tr>\n",
       "  </thead>\n",
       "  <tbody>\n",
       "    <tr>\n",
       "      <th>786</th>\n",
       "      <td>2017</td>\n",
       "      <td>lower left leg injured provoked accident</td>\n",
       "    </tr>\n",
       "  </tbody>\n",
       "</table>\n",
       "</div>"
      ],
      "text/plain": [
       "    fatal_y_n                                    injury\n",
       "786      2017  lower left leg injured provoked accident"
      ]
     },
     "execution_count": 270,
     "metadata": {},
     "output_type": "execute_result"
    }
   ],
   "source": [
    "df[(df['fatal_y_n']=='2017')][['fatal_y_n', 'injury']]\n",
    "\n",
    "# Unknown."
   ]
  },
  {
   "cell_type": "code",
   "execution_count": 271,
   "id": "024a8d90-68e0-4dcd-a328-95212e28b23f",
   "metadata": {},
   "outputs": [
    {
     "data": {
      "text/plain": [
       "array(['n', 'y', nan, 'unknown'], dtype=object)"
      ]
     },
     "execution_count": 271,
     "metadata": {},
     "output_type": "execute_result"
    }
   ],
   "source": [
    "df.fatal_y_n = df.fatal_y_n.replace({'m':'unknown', '2017':'unknown'})\n",
    "df.fatal_y_n.unique()"
   ]
  },
  {
   "cell_type": "code",
   "execution_count": 272,
   "id": "1a91e369-b18f-43c3-8472-e00c9466b306",
   "metadata": {},
   "outputs": [
    {
     "data": {
      "text/plain": [
       "array(['n', 'y', 'unknown'], dtype=object)"
      ]
     },
     "execution_count": 272,
     "metadata": {},
     "output_type": "execute_result"
    }
   ],
   "source": [
    "df[df.fatal_y_n.isnull()] = df[df.fatal_y_n.isnull()].fillna('unknown')\n",
    "df.fatal_y_n.unique()"
   ]
  },
  {
   "cell_type": "markdown",
   "id": "702f9124-e412-4e6b-aa73-a771f11da876",
   "metadata": {},
   "source": [
    "## Activity"
   ]
  },
  {
   "cell_type": "code",
   "execution_count": 273,
   "id": "e2618fa5-963e-45e1-b0b8-a64ec2e81135",
   "metadata": {},
   "outputs": [],
   "source": [
    "df.activity = df.activity.str.lower()"
   ]
  },
  {
   "cell_type": "code",
   "execution_count": 274,
   "id": "43893cbe-ff46-4be6-9ff3-790b434e19ad",
   "metadata": {},
   "outputs": [
    {
     "data": {
      "text/html": [
       "<div>\n",
       "<style scoped>\n",
       "    .dataframe tbody tr th:only-of-type {\n",
       "        vertical-align: middle;\n",
       "    }\n",
       "\n",
       "    .dataframe tbody tr th {\n",
       "        vertical-align: top;\n",
       "    }\n",
       "\n",
       "    .dataframe thead th {\n",
       "        text-align: right;\n",
       "    }\n",
       "</style>\n",
       "<table border=\"1\" class=\"dataframe\">\n",
       "  <thead>\n",
       "    <tr style=\"text-align: right;\">\n",
       "      <th></th>\n",
       "      <th>activity</th>\n",
       "    </tr>\n",
       "  </thead>\n",
       "  <tbody>\n",
       "    <tr>\n",
       "      <th>47</th>\n",
       "      <td>NaN</td>\n",
       "    </tr>\n",
       "    <tr>\n",
       "      <th>108</th>\n",
       "      <td>NaN</td>\n",
       "    </tr>\n",
       "    <tr>\n",
       "      <th>112</th>\n",
       "      <td>NaN</td>\n",
       "    </tr>\n",
       "    <tr>\n",
       "      <th>114</th>\n",
       "      <td>NaN</td>\n",
       "    </tr>\n",
       "    <tr>\n",
       "      <th>182</th>\n",
       "      <td>NaN</td>\n",
       "    </tr>\n",
       "    <tr>\n",
       "      <th>...</th>\n",
       "      <td>...</td>\n",
       "    </tr>\n",
       "    <tr>\n",
       "      <th>6263</th>\n",
       "      <td>NaN</td>\n",
       "    </tr>\n",
       "    <tr>\n",
       "      <th>6269</th>\n",
       "      <td>NaN</td>\n",
       "    </tr>\n",
       "    <tr>\n",
       "      <th>6282</th>\n",
       "      <td>NaN</td>\n",
       "    </tr>\n",
       "    <tr>\n",
       "      <th>6292</th>\n",
       "      <td>NaN</td>\n",
       "    </tr>\n",
       "    <tr>\n",
       "      <th>6300</th>\n",
       "      <td>NaN</td>\n",
       "    </tr>\n",
       "  </tbody>\n",
       "</table>\n",
       "<p>305 rows × 1 columns</p>\n",
       "</div>"
      ],
      "text/plain": [
       "     activity\n",
       "47        NaN\n",
       "108       NaN\n",
       "112       NaN\n",
       "114       NaN\n",
       "182       NaN\n",
       "...       ...\n",
       "6263      NaN\n",
       "6269      NaN\n",
       "6282      NaN\n",
       "6292      NaN\n",
       "6300      NaN\n",
       "\n",
       "[305 rows x 1 columns]"
      ]
     },
     "execution_count": 274,
     "metadata": {},
     "output_type": "execute_result"
    }
   ],
   "source": [
    "df[(df.activity.isnull())][['activity']]"
   ]
  },
  {
   "cell_type": "code",
   "execution_count": 275,
   "id": "821e8169-fe80-444d-ae5c-c1894b86094d",
   "metadata": {},
   "outputs": [],
   "source": [
    "df[df.activity.isnull()] = df[df.activity.isnull()].fillna('unknown')"
   ]
  },
  {
   "cell_type": "code",
   "execution_count": 276,
   "id": "e8fb6db5-8131-4397-bbec-5a97c5b58bb1",
   "metadata": {},
   "outputs": [
    {
     "data": {
      "text/plain": [
       "surfing                                         971\n",
       "swimming                                        869\n",
       "unknown                                         547\n",
       "fishing                                         431\n",
       "spearfishing                                    333\n",
       "                                               ... \n",
       "sinking of the m/v mindoro during a typhoon       1\n",
       "swimming after his canoe capsized                 1\n",
       "picking up shark by the tail                      1\n",
       "wading & pushing dinghy toward  the shallows      1\n",
       "wreck of  large double sailing canoe              1\n",
       "Name: activity, Length: 1504, dtype: int64"
      ]
     },
     "execution_count": 276,
     "metadata": {},
     "output_type": "execute_result"
    }
   ],
   "source": [
    "df.activity.value_counts()"
   ]
  },
  {
   "cell_type": "code",
   "execution_count": 277,
   "id": "a6ef16a6-5843-4b71-8f4e-da1710db8c5c",
   "metadata": {
    "tags": []
   },
   "outputs": [
    {
     "name": "stdout",
     "output_type": "stream",
     "text": [
      "6302\n"
     ]
    }
   ],
   "source": [
    "act_list = list(df.activity)\n",
    "print(len(act_list))"
   ]
  },
  {
   "cell_type": "code",
   "execution_count": 278,
   "id": "6ad59943-e2d5-4b95-999b-2d240079c47c",
   "metadata": {
    "tags": []
   },
   "outputs": [],
   "source": [
    "act_list_new = []\n",
    "for x in act_list:\n",
    "    i += 1\n",
    "    for i in range(0, 6302):\n",
    "        if len(act_list[1]) == 1:\n",
    "            act_list_new.append(x)\n",
    "        else:\n",
    "            act_list_new.append('others')"
   ]
  },
  {
   "cell_type": "markdown",
   "id": "29b511c2-478c-4b29-8b7b-6f0262e561ca",
   "metadata": {},
   "source": [
    "## Age"
   ]
  },
  {
   "cell_type": "code",
   "execution_count": 279,
   "id": "5ba0f5eb-1f7e-4f89-be32-e22d9090bbc6",
   "metadata": {},
   "outputs": [],
   "source": [
    "df.age = df.age.str.lower()"
   ]
  },
  {
   "cell_type": "code",
   "execution_count": 280,
   "id": "6609f408-b74e-4f93-a022-1baf666efc66",
   "metadata": {},
   "outputs": [
    {
     "data": {
      "text/plain": [
       "array(['57', '11', '48', nan, '18', '52', '15', '12', '32', '10', '21',\n",
       "       '34', '30', '60', '33', '29', '54', '41', '37', '56', 'unknown',\n",
       "       '19', '25', '69', '38', '55', '35', '46', '45', '14', '40s', '28',\n",
       "       '20', '24', '26', '49', '22', '7', '31', '17', '40', '13', '42',\n",
       "       '3', '8', '50', '16', '82', '73', '20s', '68', '51', '39', '58',\n",
       "       'teen', '47', '61', '65', '36', '66', '43', '60s', '9', '72', '59',\n",
       "       '6', '27', '64', '23', '71', '44', '62', '63', '70', '18 months',\n",
       "       '53', '30s', '50s', '77', '74', '28 & 26', '5', '86', '18 or 20',\n",
       "       '12 or 13', '46 & 34', '28, 23 & 30', 'teens', '36 & 26',\n",
       "       '8 or 10', '84', ' ', '30 or 36', '21 & ?', '75', '33 or 37',\n",
       "       'mid-30s', '23 & 20', ' 30', '7      &    31', ' 28', '20?',\n",
       "       \"60's\", '32 & 30', '16 to 18', '87', '67', 'elderly', 'mid-20s',\n",
       "       'ca. 33', '74 ', '45 ', '21 or 26', '20 ', '>50', '18 to 22',\n",
       "       'adult', '9 & 12', '? & 19', '9 months', '25 to 35', '23 & 26',\n",
       "       '1', '(adult)', '33 & 37', '25 or 28', '37, 67, 35, 27,  ? & 27',\n",
       "       '21, 34,24 & 35', '30 & 32', '50 & 30', '17 & 35', 'x',\n",
       "       '\"middle-age\"', '13 or 18', '34 & 19', '33 & 26', '2 to 3 months',\n",
       "       'make line green', ' 43', '81', '\"young\"', '7 or 8', '78',\n",
       "       '17 & 16', 'f', 'both 11', '9 or 10', 'young', '36 & 23', '  ',\n",
       "       'a.m.', '?    &   14', '10 or 12', '31 or 33', '2', '13 or 14'],\n",
       "      dtype=object)"
      ]
     },
     "execution_count": 280,
     "metadata": {},
     "output_type": "execute_result"
    }
   ],
   "source": [
    "df.age.unique()"
   ]
  },
  {
   "cell_type": "code",
   "execution_count": 281,
   "id": "8952c38d-50cb-4b06-97d4-c6897796bf39",
   "metadata": {},
   "outputs": [
    {
     "data": {
      "text/html": [
       "<div>\n",
       "<style scoped>\n",
       "    .dataframe tbody tr th:only-of-type {\n",
       "        vertical-align: middle;\n",
       "    }\n",
       "\n",
       "    .dataframe tbody tr th {\n",
       "        vertical-align: top;\n",
       "    }\n",
       "\n",
       "    .dataframe thead th {\n",
       "        text-align: right;\n",
       "    }\n",
       "</style>\n",
       "<table border=\"1\" class=\"dataframe\">\n",
       "  <thead>\n",
       "    <tr style=\"text-align: right;\">\n",
       "      <th></th>\n",
       "      <th>age</th>\n",
       "    </tr>\n",
       "  </thead>\n",
       "  <tbody>\n",
       "    <tr>\n",
       "      <th>3</th>\n",
       "      <td>NaN</td>\n",
       "    </tr>\n",
       "    <tr>\n",
       "      <th>4</th>\n",
       "      <td>NaN</td>\n",
       "    </tr>\n",
       "    <tr>\n",
       "      <th>5</th>\n",
       "      <td>NaN</td>\n",
       "    </tr>\n",
       "    <tr>\n",
       "      <th>15</th>\n",
       "      <td>NaN</td>\n",
       "    </tr>\n",
       "    <tr>\n",
       "      <th>16</th>\n",
       "      <td>NaN</td>\n",
       "    </tr>\n",
       "    <tr>\n",
       "      <th>...</th>\n",
       "      <td>...</td>\n",
       "    </tr>\n",
       "    <tr>\n",
       "      <th>6295</th>\n",
       "      <td>NaN</td>\n",
       "    </tr>\n",
       "    <tr>\n",
       "      <th>6296</th>\n",
       "      <td>NaN</td>\n",
       "    </tr>\n",
       "    <tr>\n",
       "      <th>6297</th>\n",
       "      <td>NaN</td>\n",
       "    </tr>\n",
       "    <tr>\n",
       "      <th>6298</th>\n",
       "      <td>NaN</td>\n",
       "    </tr>\n",
       "    <tr>\n",
       "      <th>6299</th>\n",
       "      <td>NaN</td>\n",
       "    </tr>\n",
       "  </tbody>\n",
       "</table>\n",
       "<p>1880 rows × 1 columns</p>\n",
       "</div>"
      ],
      "text/plain": [
       "      age\n",
       "3     NaN\n",
       "4     NaN\n",
       "5     NaN\n",
       "15    NaN\n",
       "16    NaN\n",
       "...   ...\n",
       "6295  NaN\n",
       "6296  NaN\n",
       "6297  NaN\n",
       "6298  NaN\n",
       "6299  NaN\n",
       "\n",
       "[1880 rows x 1 columns]"
      ]
     },
     "execution_count": 281,
     "metadata": {},
     "output_type": "execute_result"
    }
   ],
   "source": [
    "df[(df.age.isnull())][['age']]"
   ]
  },
  {
   "cell_type": "code",
   "execution_count": 282,
   "id": "1c4d2076-f05f-49c8-b63e-9707cda05905",
   "metadata": {},
   "outputs": [],
   "source": [
    "df[df.age.isnull()] = df[df.age.isnull()].fillna('unknown')"
   ]
  },
  {
   "cell_type": "code",
   "execution_count": 283,
   "id": "2b27fe9e-9760-4676-bd59-fce7cb5bf8e7",
   "metadata": {},
   "outputs": [],
   "source": [
    "df.age = df.age.replace({'40s':'40',\n",
    "                         '20s':'20',\n",
    "                         'teen':'15',\n",
    "                         '60s':'60',\n",
    "                         '18 months':'< 1',\n",
    "                         '30s':'30', \n",
    "                         '50s':'50', \n",
    "                         '28 & 26':'27',\n",
    "                         '18 or 20':'18',\n",
    "                         '12 or 13':'12', \n",
    "                         '46 & 34':'40', \n",
    "                         '28, 23 & 30':'27', \n",
    "                         'teens':'15', \n",
    "                         '36 & 26':'31',\n",
    "                         '8 or 10':'8', \n",
    "                         ' ':'unknown', \n",
    "                         '30 or 36':'30', \n",
    "                         '21 & ?':'21', \n",
    "                         '33 or 37':'33',\n",
    "                         'mid-30s':'35', \n",
    "                         '23 & 20':'22', \n",
    "                         ' 30':'30', \n",
    "                         '7      &    31':'29', \n",
    "                         ' 28':'28', \n",
    "                         '20?':'20',\n",
    "                         \"60's\":'60', \n",
    "                         '32 & 30':'31', \n",
    "                         '16 to 18':'17', \n",
    "                         'elderly':'70', \n",
    "                         'mid-20s':'25',\n",
    "                         'ca. 33':'unknown', \n",
    "                         '74 ':'74', \n",
    "                         '45 ':'45', \n",
    "                         '21 or 26':'24', \n",
    "                         '20 ':'20', \n",
    "                         '>50':'60', \n",
    "                         '18 to 22':'20',\n",
    "                         'adult':'18', \n",
    "                         '9 & 12':'11', \n",
    "                         '? & 19':'19', \n",
    "                         '9 months':'< 1', \n",
    "                         '25 to 35':'30', \n",
    "                         '23 & 26':'25', \n",
    "                         '(adult)':'18', \n",
    "                         '33 & 37':'35', \n",
    "                         '25 or 28':'27',\n",
    "                         '37, 67, 35, 27,  ? & 27':'unknown',\n",
    "                         '21, 34,24 & 35':'30', \n",
    "                         '30 & 32':'31', \n",
    "                         '50 & 30':'40', \n",
    "                         '17 & 35':'25', \n",
    "                         'x':'unknown',\n",
    "                         '\"middle-age\"':'40', \n",
    "                         '13 or 18':'15', \n",
    "                         '34 & 19':'53', \n",
    "                         '33 & 26':'30', \n",
    "                         '2 to 3 months':'< 1',\n",
    "                         'make line green':'unknown', \n",
    "                         ' 43':'43', \n",
    "                         '\"young\"':'16', \n",
    "                         '7 or 8':'7',\n",
    "                         '17 & 16':'17', \n",
    "                         'f':'unknown', \n",
    "                         'both 11':'11', \n",
    "                         '9 or 10':'9', \n",
    "                         'young':'16', \n",
    "                         '36 & 23':'30', \n",
    "                         '  ':'unknown',\n",
    "                         'a.m.':'unknown', \n",
    "                         '?    &   14':'14', \n",
    "                         '10 or 12':'10', \n",
    "                         '31 or 33':'31', \n",
    "                         '13 or 14':'13'})"
   ]
  },
  {
   "cell_type": "code",
   "execution_count": 284,
   "id": "3a7e7b6e-73ef-4f86-ae32-20e0bece2a25",
   "metadata": {},
   "outputs": [
    {
     "data": {
      "text/plain": [
       "array(['57', '11', '48', 'unknown', '18', '52', '15', '12', '32', '10',\n",
       "       '21', '34', '30', '60', '33', '29', '54', '41', '37', '56', '19',\n",
       "       '25', '69', '38', '55', '35', '46', '45', '14', '40', '28', '20',\n",
       "       '24', '26', '49', '22', '7', '31', '17', '13', '42', '3', '8',\n",
       "       '50', '16', '82', '73', '68', '51', '39', '58', '47', '61', '65',\n",
       "       '36', '66', '43', '9', '72', '59', '6', '27', '64', '23', '71',\n",
       "       '44', '62', '63', '70', '< 1', '53', '77', '74', '5', '86', '84',\n",
       "       '75', '87', '67', '1', '81', '78', '2'], dtype=object)"
      ]
     },
     "execution_count": 284,
     "metadata": {},
     "output_type": "execute_result"
    }
   ],
   "source": [
    "df.age.unique()"
   ]
  },
  {
   "cell_type": "code",
   "execution_count": 285,
   "id": "b849cd22-d87b-4c52-9a12-421e61b717f6",
   "metadata": {},
   "outputs": [
    {
     "data": {
      "text/plain": [
       "Index(['case_number', 'date', 'year', 'type', 'country', 'area', 'location',\n",
       "       'activity', 'name', 'sex', 'age', 'injury', 'fatal_y_n', 'time',\n",
       "       'species', 'investigator_or_source', 'pdf', 'href_formula', 'href',\n",
       "       'case_number1', 'case_number2', 'original_order'],\n",
       "      dtype='object')"
      ]
     },
     "execution_count": 285,
     "metadata": {},
     "output_type": "execute_result"
    }
   ],
   "source": [
    "df.columns"
   ]
  },
  {
   "cell_type": "markdown",
   "id": "dc8767d7-42b5-410a-adf4-20a8a27618a3",
   "metadata": {},
   "source": [
    "## Type"
   ]
  },
  {
   "cell_type": "code",
   "execution_count": 286,
   "id": "28587a22-2be2-4773-876e-b15b53610bd0",
   "metadata": {},
   "outputs": [],
   "source": [
    "df.type = df.type.str.lower()"
   ]
  },
  {
   "cell_type": "code",
   "execution_count": 287,
   "id": "4f51e841-2dd6-45b9-b5e0-4eb911dd1964",
   "metadata": {},
   "outputs": [
    {
     "data": {
      "text/plain": [
       "array(['boating', 'unprovoked', 'invalid', 'provoked', 'questionable',\n",
       "       'sea disaster', 'unknown', 'boat', 'boatomg'], dtype=object)"
      ]
     },
     "execution_count": 287,
     "metadata": {},
     "output_type": "execute_result"
    }
   ],
   "source": [
    "df.type.unique()"
   ]
  },
  {
   "cell_type": "code",
   "execution_count": 288,
   "id": "2fc1406d-d201-4093-99d5-23ee6759dc25",
   "metadata": {},
   "outputs": [],
   "source": [
    "df.type = df.type.replace({'boating':'boat', 'boatomg':'boat'})"
   ]
  },
  {
   "cell_type": "code",
   "execution_count": 289,
   "id": "11aaccf5-13be-4d54-9222-8bfba8104841",
   "metadata": {},
   "outputs": [
    {
     "data": {
      "text/plain": [
       "array(['boat', 'unprovoked', 'invalid', 'provoked', 'questionable',\n",
       "       'sea disaster', 'unknown'], dtype=object)"
      ]
     },
     "execution_count": 289,
     "metadata": {},
     "output_type": "execute_result"
    }
   ],
   "source": [
    "df.type.unique()"
   ]
  },
  {
   "cell_type": "markdown",
   "id": "86174012-c609-41e9-84d4-ca992d521ad5",
   "metadata": {},
   "source": [
    "## Area"
   ]
  },
  {
   "cell_type": "code",
   "execution_count": 290,
   "id": "9e125e15-47cf-4b08-a95a-dc5c8a1006cb",
   "metadata": {},
   "outputs": [],
   "source": [
    "df.area = df.area.str.lower()"
   ]
  },
  {
   "cell_type": "code",
   "execution_count": 291,
   "id": "8609ecd5-b3ad-478b-a5d9-a4e5441c4245",
   "metadata": {},
   "outputs": [
    {
     "data": {
      "text/plain": [
       "92"
      ]
     },
     "execution_count": 291,
     "metadata": {},
     "output_type": "execute_result"
    }
   ],
   "source": [
    "df.area.isnull().sum()"
   ]
  },
  {
   "cell_type": "code",
   "execution_count": 292,
   "id": "2cae3974-00f1-4af0-941d-08df4008acfc",
   "metadata": {},
   "outputs": [],
   "source": [
    "df[df.area.isnull()] = df[df.area.isnull()].fillna('unknown')"
   ]
  },
  {
   "cell_type": "markdown",
   "id": "f17a09b0-ef5b-4a4d-a42e-cbfb6ee011ba",
   "metadata": {},
   "source": [
    "## Location"
   ]
  },
  {
   "cell_type": "code",
   "execution_count": 293,
   "id": "4ad34565-b310-413e-b96a-42d221e0ae61",
   "metadata": {},
   "outputs": [],
   "source": [
    "df.location = df.location.str.lower()"
   ]
  },
  {
   "cell_type": "code",
   "execution_count": 294,
   "id": "09eddaf8-4273-4c3f-9168-b21f58476376",
   "metadata": {},
   "outputs": [
    {
     "data": {
      "text/plain": [
       "array(['oceanside, san diego county', 'st. simon island, glynn county',\n",
       "       'habush, oahu', ..., 'ocracoke inlet', 'panama bay 8n, 79w',\n",
       "       'below the english fort, trincomalee'], dtype=object)"
      ]
     },
     "execution_count": 294,
     "metadata": {},
     "output_type": "execute_result"
    }
   ],
   "source": [
    "df.location.unique()"
   ]
  },
  {
   "cell_type": "code",
   "execution_count": 295,
   "id": "a2283c2c-7bd5-433d-8440-7e894cf45c65",
   "metadata": {},
   "outputs": [
    {
     "data": {
      "text/plain": [
       "77"
      ]
     },
     "execution_count": 295,
     "metadata": {},
     "output_type": "execute_result"
    }
   ],
   "source": [
    "df.location.isnull().sum()"
   ]
  },
  {
   "cell_type": "code",
   "execution_count": 296,
   "id": "c4fea44c-a70c-4161-af4b-5feec07a0759",
   "metadata": {},
   "outputs": [],
   "source": [
    "df[df.location.isnull()] = df[df.location.isnull()].fillna('unknown')"
   ]
  },
  {
   "cell_type": "markdown",
   "id": "6b1cec2f-b399-42bf-a5f4-c5ddb37d42a3",
   "metadata": {},
   "source": [
    "### ----------------------------------------------------------------------------------"
   ]
  },
  {
   "cell_type": "code",
   "execution_count": 297,
   "id": "5eb3ef2d-8ecc-4421-ab63-19a754a29df5",
   "metadata": {},
   "outputs": [],
   "source": [
    "delete_columns2 = ['name', 'pdf', 'href_formula', 'href']"
   ]
  },
  {
   "cell_type": "code",
   "execution_count": 298,
   "id": "87dd8f0c-0241-49b2-bc1f-144732974dc0",
   "metadata": {},
   "outputs": [],
   "source": [
    "df.drop(delete_columns2, axis = 1, inplace = True)"
   ]
  },
  {
   "cell_type": "code",
   "execution_count": 299,
   "id": "c1e04eb7-8949-42c8-8ecb-4d4f96041c17",
   "metadata": {},
   "outputs": [
    {
     "data": {
      "text/plain": [
       "Index(['case_number', 'date', 'year', 'type', 'country', 'area', 'location',\n",
       "       'activity', 'sex', 'age', 'injury', 'fatal_y_n', 'time', 'species',\n",
       "       'investigator_or_source', 'case_number1', 'case_number2',\n",
       "       'original_order'],\n",
       "      dtype='object')"
      ]
     },
     "execution_count": 299,
     "metadata": {},
     "output_type": "execute_result"
    }
   ],
   "source": [
    "df.columns"
   ]
  },
  {
   "cell_type": "markdown",
   "id": "310f1d30-f5d6-4649-b3b6-cc9d3bd8e144",
   "metadata": {},
   "source": [
    "## Species"
   ]
  },
  {
   "cell_type": "code",
   "execution_count": 300,
   "id": "4d24735f-af64-4bf4-97f8-f5d8c85330d3",
   "metadata": {},
   "outputs": [],
   "source": [
    "df.species = df.species.str.lower()"
   ]
  },
  {
   "cell_type": "code",
   "execution_count": 301,
   "id": "67bd15bc-433c-415d-b15e-f3bf6400a743",
   "metadata": {},
   "outputs": [
    {
     "data": {
      "text/plain": [
       "array(['white shark', nan, '2 m shark', ..., \"12' tiger shark\",\n",
       "       'blue pointers',\n",
       "       'said to involve a grey nurse shark that leapt out of the water and  seized the boy but species identification is questionable'],\n",
       "      dtype=object)"
      ]
     },
     "execution_count": 301,
     "metadata": {},
     "output_type": "execute_result"
    }
   ],
   "source": [
    "df.species.unique()"
   ]
  },
  {
   "cell_type": "code",
   "execution_count": 302,
   "id": "6f8a4248-6808-4cb6-ad82-6e94a5070923",
   "metadata": {},
   "outputs": [
    {
     "data": {
      "text/plain": [
       "1073"
      ]
     },
     "execution_count": 302,
     "metadata": {},
     "output_type": "execute_result"
    }
   ],
   "source": [
    "df.species.isnull().sum()"
   ]
  },
  {
   "cell_type": "code",
   "execution_count": 303,
   "id": "af73d3c7-a923-4c52-ac64-022735f39d30",
   "metadata": {},
   "outputs": [
    {
     "data": {
      "text/plain": [
       "5229"
      ]
     },
     "execution_count": 303,
     "metadata": {},
     "output_type": "execute_result"
    }
   ],
   "source": [
    "df.species.notnull().sum()"
   ]
  },
  {
   "cell_type": "code",
   "execution_count": 304,
   "id": "41f697d8-6da0-4ab1-b0d7-cd94949ca728",
   "metadata": {},
   "outputs": [
    {
     "data": {
      "text/plain": [
       "0.17026340844176452"
      ]
     },
     "execution_count": 304,
     "metadata": {},
     "output_type": "execute_result"
    }
   ],
   "source": [
    "df.species.isnull().sum()/df.shape[0]"
   ]
  },
  {
   "cell_type": "code",
   "execution_count": 305,
   "id": "9d33168b-5fef-46c8-a271-abe9a47b21be",
   "metadata": {},
   "outputs": [],
   "source": [
    "df[df.species.isnull()] = df[df.species.isnull()].fillna('unknown')"
   ]
  },
  {
   "cell_type": "code",
   "execution_count": 306,
   "id": "96c4d8b5-a5f4-40e8-abe6-261667c555f7",
   "metadata": {},
   "outputs": [],
   "source": [
    "# Pendiente: case_number, date, year, case_number1, case_number2, original_order."
   ]
  },
  {
   "cell_type": "markdown",
   "id": "33315509-e0f9-4919-8cb0-8364842b29a9",
   "metadata": {},
   "source": [
    "## Investigator Or Source"
   ]
  },
  {
   "cell_type": "code",
   "execution_count": 311,
   "id": "9e1b9157-cbe8-42a5-8516-2e8cd47b7e21",
   "metadata": {},
   "outputs": [
    {
     "data": {
      "text/plain": [
       "0"
      ]
     },
     "execution_count": 311,
     "metadata": {},
     "output_type": "execute_result"
    }
   ],
   "source": [
    "df.investigator_or_source.isnull().sum()"
   ]
  },
  {
   "cell_type": "code",
   "execution_count": 310,
   "id": "bafe8ba6-2476-4fbe-889f-d0f91a6c39d0",
   "metadata": {},
   "outputs": [],
   "source": [
    "df[df.investigator_or_source.isnull()] = df[df.investigator_or_source.isnull()].fillna('unknown')"
   ]
  },
  {
   "cell_type": "markdown",
   "id": "c006a9b3-bf5e-42e1-8a82-63855a440237",
   "metadata": {},
   "source": [
    "## Time"
   ]
  },
  {
   "cell_type": "code",
   "execution_count": 314,
   "id": "0c824a0c-6d29-4591-b4d3-722fad219547",
   "metadata": {},
   "outputs": [
    {
     "data": {
      "text/plain": [
       "446"
      ]
     },
     "execution_count": 314,
     "metadata": {},
     "output_type": "execute_result"
    }
   ],
   "source": [
    "df.time.isnull().sum()"
   ]
  },
  {
   "cell_type": "code",
   "execution_count": 315,
   "id": "b256c530-fddc-4b76-8ae1-479f081e72a3",
   "metadata": {},
   "outputs": [],
   "source": [
    "df[df.time.isnull()] = df[df.time.isnull()].fillna('unknown')"
   ]
  }
 ],
 "metadata": {
  "kernelspec": {
   "display_name": "Python 3 (ipykernel)",
   "language": "python",
   "name": "python3"
  },
  "language_info": {
   "codemirror_mode": {
    "name": "ipython",
    "version": 3
   },
   "file_extension": ".py",
   "mimetype": "text/x-python",
   "name": "python",
   "nbconvert_exporter": "python",
   "pygments_lexer": "ipython3",
   "version": "3.9.7"
  }
 },
 "nbformat": 4,
 "nbformat_minor": 5
}
